{
  "nbformat": 4,
  "nbformat_minor": 0,
  "metadata": {
    "colab": {
      "name": "k-means.ipynb",
      "provenance": [],
      "collapsed_sections": [],
      "include_colab_link": true
    },
    "kernelspec": {
      "name": "python3",
      "display_name": "Python 3"
    }
  },
  "cells": [
    {
      "cell_type": "markdown",
      "metadata": {
        "id": "view-in-github",
        "colab_type": "text"
      },
      "source": [
        "<a href=\"https://colab.research.google.com/github/LakeRainSound/text_mining_practice2/blob/master/k_means.ipynb\" target=\"_parent\"><img src=\"https://colab.research.google.com/assets/colab-badge.svg\" alt=\"Open In Colab\"/></a>"
      ]
    },
    {
      "cell_type": "markdown",
      "metadata": {
        "id": "sESw_dKQL5mA",
        "colab_type": "text"
      },
      "source": [
        "# nltkの文章群にscikit-learnを用いてクラスタリングを適用してみる"
      ]
    },
    {
      "cell_type": "markdown",
      "metadata": {
        "id": "3nFpmxQOMIKS",
        "colab_type": "text"
      },
      "source": [
        "## 導入編"
      ]
    },
    {
      "cell_type": "markdown",
      "metadata": {
        "id": "oFmxTSs2MV2y",
        "colab_type": "text"
      },
      "source": [
        "### 必要なライブラリ・データセットのインポート"
      ]
    },
    {
      "cell_type": "code",
      "metadata": {
        "id": "v9v_nPKQMTZd",
        "colab_type": "code",
        "colab": {}
      },
      "source": [
        "from sklearn.feature_extraction.text import TfidfVectorizer\n",
        "from sklearn.cluster import KMeans\n",
        "import numpy as np\n",
        "import matplotlib.pyplot as plt\n",
        "import pandas as pd\n",
        "import nltk\n",
        "import collections"
      ],
      "execution_count": 4,
      "outputs": []
    },
    {
      "cell_type": "markdown",
      "metadata": {
        "id": "y2UGMZJaMgvM",
        "colab_type": "text"
      },
      "source": [
        "### 今回は以下のnltkの機能を使用できる様にする\n"
      ]
    },
    {
      "cell_type": "code",
      "metadata": {
        "id": "MaRmXeotMjKv",
        "colab_type": "code",
        "colab": {
          "base_uri": "https://localhost:8080/",
          "height": 153
        },
        "outputId": "5c464eb1-bda8-4f73-bafc-fad15e18524e"
      },
      "source": [
        "nltk.download(\"stopwords\")\n",
        "nltk.download(\"wordnet\")\n",
        "nltk.download(\"reuters\")\n",
        "nltk.download(\"punkt\")"
      ],
      "execution_count": 5,
      "outputs": [
        {
          "output_type": "stream",
          "text": [
            "[nltk_data] Downloading package stopwords to /root/nltk_data...\n",
            "[nltk_data]   Unzipping corpora/stopwords.zip.\n",
            "[nltk_data] Downloading package wordnet to /root/nltk_data...\n",
            "[nltk_data]   Unzipping corpora/wordnet.zip.\n",
            "[nltk_data] Downloading package reuters to /root/nltk_data...\n",
            "[nltk_data] Downloading package punkt to /root/nltk_data...\n",
            "[nltk_data]   Unzipping tokenizers/punkt.zip.\n"
          ],
          "name": "stdout"
        },
        {
          "output_type": "execute_result",
          "data": {
            "text/plain": [
              "True"
            ]
          },
          "metadata": {
            "tags": []
          },
          "execution_count": 5
        }
      ]
    },
    {
      "cell_type": "markdown",
      "metadata": {
        "id": "7VtrTuH4MrHN",
        "colab_type": "text"
      },
      "source": [
        "### データを取得"
      ]
    },
    {
      "cell_type": "code",
      "metadata": {
        "id": "zXcN4x3bMljo",
        "colab_type": "code",
        "colab": {}
      },
      "source": [
        "from nltk.corpus import reuters as corpus"
      ],
      "execution_count": 6,
      "outputs": []
    },
    {
      "cell_type": "markdown",
      "metadata": {
        "id": "A6PFfk-BMxEs",
        "colab_type": "text"
      },
      "source": [
        "### datasetの中身を確認"
      ]
    },
    {
      "cell_type": "code",
      "metadata": {
        "id": "HXvSxPG0MuXr",
        "colab_type": "code",
        "colab": {
          "base_uri": "https://localhost:8080/",
          "height": 221
        },
        "outputId": "ca0351d5-1d05-4d06-c445-e43817b1b7b9"
      },
      "source": [
        "for n,item in enumerate(corpus.words(corpus.fileids()[0])[:300]):\n",
        "    print(item, end=\" \")\n",
        "    if (n%25) ==24:\n",
        "      print(\" \")"
      ],
      "execution_count": 7,
      "outputs": [
        {
          "output_type": "stream",
          "text": [
            "ASIAN EXPORTERS FEAR DAMAGE FROM U . S .- JAPAN RIFT Mounting trade friction between the U . S . And Japan has raised fears  \n",
            "among many of Asia ' s exporting nations that the row could inflict far - reaching economic damage , businessmen and officials said . They  \n",
            "told Reuter correspondents in Asian capitals a U . S . Move against Japan might boost protectionist sentiment in the U . S . And  \n",
            "lead to curbs on American imports of their products . But some exporters said that while the conflict would hurt them in the long -  \n",
            "run , in the short - term Tokyo ' s loss might be their gain . The U . S . Has said it will  \n",
            "impose 300 mln dlrs of tariffs on imports of Japanese electronics goods on April 17 , in retaliation for Japan ' s alleged failure to  \n",
            "stick to a pact not to sell semiconductors on world markets at below cost . Unofficial Japanese estimates put the impact of the tariffs at  \n",
            "10 billion dlrs and spokesmen for major electronics firms said they would virtually halt exports of products hit by the new taxes . \" We  \n",
            "wouldn ' t be able to do business ,\" said a spokesman for leading Japanese electronics firm Matsushita Electric Industrial Co Ltd & lt ;  \n",
            "MC . T >. \" If the tariffs remain in place for any length of time beyond a few months it will mean the complete  \n",
            "erosion of exports ( of goods subject to tariffs ) to the U . S .,\" said Tom Murtha , a stock analyst at the  \n",
            "Tokyo office of broker & lt ; James Capel and Co >. In Taiwan , businessmen and officials are also worried . \" We are  \n"
          ],
          "name": "stdout"
        }
      ]
    },
    {
      "cell_type": "markdown",
      "metadata": {
        "id": "2lysFJt4M1Ux",
        "colab_type": "text"
      },
      "source": [
        "### 全document数"
      ]
    },
    {
      "cell_type": "code",
      "metadata": {
        "id": "_Yz5UaciM0UG",
        "colab_type": "code",
        "colab": {
          "base_uri": "https://localhost:8080/",
          "height": 34
        },
        "outputId": "7d2dac9c-29a4-49ed-f2a6-a4988ccd4c33"
      },
      "source": [
        "len(corpus.fileids())"
      ],
      "execution_count": 8,
      "outputs": [
        {
          "output_type": "execute_result",
          "data": {
            "text/plain": [
              "10788"
            ]
          },
          "metadata": {
            "tags": []
          },
          "execution_count": 8
        }
      ]
    },
    {
      "cell_type": "markdown",
      "metadata": {
        "id": "eu_yYroqM8-8",
        "colab_type": "text"
      },
      "source": [
        "### (例) 前からk個のdocumentのみで学習する場合"
      ]
    },
    {
      "cell_type": "code",
      "metadata": {
        "id": "JOSFXIzlM5wI",
        "colab_type": "code",
        "colab": {}
      },
      "source": [
        "k = 100\n",
        "docs=[corpus.words(fileid) for fileid in corpus.fileids()[:k]]"
      ],
      "execution_count": 17,
      "outputs": []
    },
    {
      "cell_type": "markdown",
      "metadata": {
        "id": "OiXa4ySJNBDC",
        "colab_type": "text"
      },
      "source": [
        "### 全documentで学習する場合"
      ]
    },
    {
      "cell_type": "code",
      "metadata": {
        "id": "uyNbkvs9NAav",
        "colab_type": "code",
        "colab": {
          "base_uri": "https://localhost:8080/",
          "height": 71
        },
        "outputId": "85543a01-4950-4295-b8c6-74f1f57a7cd6"
      },
      "source": [
        "# docs=[corpus.words(fileid) for fileid in corpus.fileids()]\n",
        "\n",
        "# print(docs[:5])\n",
        "# print(\"num of docs:\", len(docs))"
      ],
      "execution_count": 10,
      "outputs": [
        {
          "output_type": "stream",
          "text": [
            "[['ASIAN', 'EXPORTERS', 'FEAR', 'DAMAGE', 'FROM', 'U', ...], ['CHINA', 'DAILY', 'SAYS', 'VERMIN', 'EAT', '7', '-', ...], ['JAPAN', 'TO', 'REVISE', 'LONG', '-', 'TERM', ...], ['THAI', 'TRADE', 'DEFICIT', 'WIDENS', 'IN', 'FIRST', ...], ['INDONESIA', 'SEES', 'CPO', 'PRICE', 'RISING', ...]]\n",
            "num of docs: 10788\n"
          ],
          "name": "stdout"
        }
      ]
    },
    {
      "cell_type": "markdown",
      "metadata": {
        "id": "U17VbjPaNIAD",
        "colab_type": "text"
      },
      "source": [
        "## 前処理編"
      ]
    },
    {
      "cell_type": "markdown",
      "metadata": {
        "id": "HGPSmgSNNMFs",
        "colab_type": "text"
      },
      "source": [
        "### 例 : ストップワードリストの作成\n",
        "\n",
        "### nltkのストップワードリスト"
      ]
    },
    {
      "cell_type": "code",
      "metadata": {
        "id": "CHC1l7zDNFLx",
        "colab_type": "code",
        "colab": {}
      },
      "source": [
        "en_stop = nltk.corpus.stopwords.words('english')"
      ],
      "execution_count": 18,
      "outputs": []
    },
    {
      "cell_type": "markdown",
      "metadata": {
        "id": "HqdBEQpUNT74",
        "colab_type": "text"
      },
      "source": [
        "### 例:【発展】記号や数字は正規表現で消してみる"
      ]
    },
    {
      "cell_type": "code",
      "metadata": {
        "id": "to0DASSYNRj0",
        "colab_type": "code",
        "colab": {}
      },
      "source": [
        "en_stop= [\"``\",\"/\",\",.\",\".,\",\";\",\"--\",\":\",\")\",\"(\",'\"','&',\"'\",'),',',\"','-','.,','.,\"','.-',\"?\",\">\",\"<\"]                  \\\n",
        "         +[\"0\",\"1\",\"2\",\"3\",\"4\",\"5\",\"6\",\"7\",\"8\",\"9\",\"10\",\"11\",\"12\",\"86\",\"1986\",\"1987\",\"000\"]                                                      \\\n",
        "         +[\"said\",\"say\",\"u\",\"v\",\"mln\",\"ct\",\"net\",\"dlrs\",\"tonne\",\"pct\",\"shr\",\"nil\",\"company\",\"lt\",\"share\",\"year\",\"billion\",\"price\"]          \\\n",
        "         +en_stop"
      ],
      "execution_count": 19,
      "outputs": []
    },
    {
      "cell_type": "markdown",
      "metadata": {
        "id": "7hdG75XqNYPa",
        "colab_type": "text"
      },
      "source": [
        "### 前処理関数の作成"
      ]
    },
    {
      "cell_type": "code",
      "metadata": {
        "id": "f1jUH0P-NcoP",
        "colab_type": "code",
        "colab": {}
      },
      "source": [
        "from nltk.corpus import wordnet as wn #lemmatize関数のためのimport\n",
        "\n",
        "def preprocess_word(word, stopwordset):\n",
        "    \n",
        "    #1.make words lower ex: Python =>python\n",
        "    word=word.lower()\n",
        "    \n",
        "    #2.remove \",\" and \".\"\n",
        "    if word in [\",\",\".\"]:\n",
        "        return None\n",
        "    \n",
        "    #3.remove stopword  ex: the => (None) \n",
        "    if word in stopwordset:\n",
        "        return None\n",
        "    \n",
        "    #4.lemmatize  ex: cooked=>cook\n",
        "    lemma = wn.morphy(word)\n",
        "    if lemma is None:\n",
        "        return word\n",
        "\n",
        "    elif lemma in stopwordset: #lemmatizeしたものがstopwordである可能性がある\n",
        "        return None\n",
        "    else:\n",
        "        return lemma\n",
        "    \n",
        "\n",
        "def preprocess_document(document):\n",
        "    document=[preprocess_word(w, en_stop) for w in document]\n",
        "    document=[w for w in document if w is not None]\n",
        "    return document\n",
        "\n",
        "def preprocess_documents(documents):\n",
        "    return [preprocess_document(document) for document in documents]"
      ],
      "execution_count": 20,
      "outputs": []
    },
    {
      "cell_type": "markdown",
      "metadata": {
        "id": "nJZeCVgNNi5T",
        "colab_type": "text"
      },
      "source": [
        "### 前処理の結果を出力してみる"
      ]
    },
    {
      "cell_type": "markdown",
      "metadata": {
        "id": "WGX6YzgVNmbV",
        "colab_type": "text"
      },
      "source": [
        "### 前処理前"
      ]
    },
    {
      "cell_type": "code",
      "metadata": {
        "id": "2u2P8lmTNgLn",
        "colab_type": "code",
        "colab": {
          "base_uri": "https://localhost:8080/",
          "height": 54
        },
        "outputId": "9d2fdb2c-4a52-4319-e7a4-592e4113e3bc"
      },
      "source": [
        "print(docs[0][:25]) "
      ],
      "execution_count": 21,
      "outputs": [
        {
          "output_type": "stream",
          "text": [
            "['ASIAN', 'EXPORTERS', 'FEAR', 'DAMAGE', 'FROM', 'U', '.', 'S', '.-', 'JAPAN', 'RIFT', 'Mounting', 'trade', 'friction', 'between', 'the', 'U', '.', 'S', '.', 'And', 'Japan', 'has', 'raised', 'fears']\n"
          ],
          "name": "stdout"
        }
      ]
    },
    {
      "cell_type": "markdown",
      "metadata": {
        "id": "Ki-UHTcXNptm",
        "colab_type": "text"
      },
      "source": [
        "### 前処理後"
      ]
    },
    {
      "cell_type": "code",
      "metadata": {
        "id": "0rHr8yGINpDM",
        "colab_type": "code",
        "colab": {
          "base_uri": "https://localhost:8080/",
          "height": 54
        },
        "outputId": "8899a7ea-1686-449d-8227-bafec18dbbc8"
      },
      "source": [
        "print(preprocess_documents(docs)[0][:25])"
      ],
      "execution_count": 22,
      "outputs": [
        {
          "output_type": "stream",
          "text": [
            "['asian', 'exporter', 'fear', 'damage', 'japan', 'rift', 'mounting', 'trade', 'friction', 'japan', 'raise', 'fear', 'among', 'many', 'asia', 'exporting', 'nation', 'row', 'could', 'inflict', 'far', 'reaching', 'economic', 'damage', 'businessmen']\n"
          ],
          "name": "stdout"
        }
      ]
    },
    {
      "cell_type": "markdown",
      "metadata": {
        "id": "kIwd7wGvNyWj",
        "colab_type": "text"
      },
      "source": [
        "## クラスタリング編"
      ]
    },
    {
      "cell_type": "markdown",
      "metadata": {
        "id": "WPAMVMFaN2yL",
        "colab_type": "text"
      },
      "source": [
        "### tf idfで上記の前処理済みの文章をベクトル化\n",
        "### vectorizerを使用する（ハイパーパラメーターの設定）"
      ]
    },
    {
      "cell_type": "code",
      "metadata": {
        "id": "QVtbDMmtNuQV",
        "colab_type": "code",
        "colab": {
          "base_uri": "https://localhost:8080/",
          "height": 54
        },
        "outputId": "dfa1df66-8b5b-4829-b8c4-f9c57b2478df"
      },
      "source": [
        "pre_docs=preprocess_documents(docs)\n",
        "pre_docs=[\" \".join(doc) for doc in pre_docs]\n",
        "print(pre_docs[0])\n",
        "\n",
        "vectorizer = TfidfVectorizer(max_features=200, token_pattern=u'(?u)\\\\b\\\\w+\\\\b' )"
      ],
      "execution_count": 23,
      "outputs": [
        {
          "output_type": "stream",
          "text": [
            "asian exporter fear damage japan rift mounting trade friction japan raise fear among many asia exporting nation row could inflict far reaching economic damage businessmen official tell reuter correspondent asian capital move japan might boost protectionist sentiment lead curb american import product exporter conflict would hurt long run short term tokyo loss might gain impose 300 tariff import japanese electronics good april 17 retaliation japan allege failure stick pact sell semiconductor world market cost unofficial japanese estimate put impact tariff spokesman major electronics firm would virtually halt export product hit new tax able business spokesman leading japanese electronics firm matsushita electric industrial co ltd mc >. tariff remain place length time beyond month mean complete erosion export good subject tariff tom murtha stock analyst tokyo office broker james capel co >. taiwan businessmen official also worry aware seriousness threat japan serve warning us senior taiwanese trade official ask name taiwan trade trade surplus 15 last 95 surplus help swell taiwan foreign exchange reserves 53 among world large must quickly open market remove trade barrier cut import tariff allow import product want defuse problem possible retaliation paul sheen chairman textile exporter taiwan safe group >. senior official south korea trade promotion association trade dispute japan might also lead pressure south korea whose chief export similar japan last south korea trade surplus 1985 malaysia trade officer businessmen tough curb japan might allow hard hit producer semiconductor third country expand sales hong kong newspaper allege japan selling cost semiconductor electronics manufacturer view businessmen short term commercial advantage would outweigh pressure block import short term view lawrence mills director general federation hong kong industry whole purpose prevent import one day extend source much serious hong kong disadvantage action restrain trade last hong kong big export market accounting 30 domestically produce export australian government await outcome trade talks japan interest concern industry minister john button canberra last friday kind deterioration trade relations two country major trading partner serious matter button australia concern centre coal beef australia two large export japan also significant export country meanwhile japanese diplomatic manoeuvre solve trade stand continue japan ruling liberal democratic party yesterday outline package economic measure boost japanese economy measure propose include large supplementary budget record public works spending first half financial also call step spending emergency measure stimulate economy despite prime minister yasuhiro nakasone avow fiscal reform program deputy trade representative michael smith makoto kuroda japan deputy minister international trade industry miti due meet washington week effort end dispute\n"
          ],
          "name": "stdout"
        }
      ]
    },
    {
      "cell_type": "markdown",
      "metadata": {
        "id": "bOOrgZHZN_Aw",
        "colab_type": "text"
      },
      "source": [
        "### fitする"
      ]
    },
    {
      "cell_type": "code",
      "metadata": {
        "id": "98b3XjG7N8nZ",
        "colab_type": "code",
        "colab": {}
      },
      "source": [
        "tf_idf = vectorizer.fit_transform(pre_docs)"
      ],
      "execution_count": 24,
      "outputs": []
    },
    {
      "cell_type": "markdown",
      "metadata": {
        "id": "yKhgoWLeOCW_",
        "colab_type": "text"
      },
      "source": [
        "### K-means\n",
        "### kmeansの設定"
      ]
    },
    {
      "cell_type": "code",
      "metadata": {
        "id": "qVRkE4lsOBuL",
        "colab_type": "code",
        "colab": {}
      },
      "source": [
        "num_clusters = 2\n",
        "km = KMeans(n_clusters=num_clusters, random_state = 0)"
      ],
      "execution_count": 25,
      "outputs": []
    },
    {
      "cell_type": "markdown",
      "metadata": {
        "id": "SoOo2YWkOU9T",
        "colab_type": "text"
      },
      "source": [
        "### fitする"
      ]
    },
    {
      "cell_type": "code",
      "metadata": {
        "id": "ZmhVNkcyOSxq",
        "colab_type": "code",
        "colab": {}
      },
      "source": [
        "clusters = km.fit_predict(tf_idf)"
      ],
      "execution_count": 26,
      "outputs": []
    },
    {
      "cell_type": "markdown",
      "metadata": {
        "id": "aIcN2sKSOZdu",
        "colab_type": "text"
      },
      "source": [
        "### 出力結果"
      ]
    },
    {
      "cell_type": "code",
      "metadata": {
        "id": "HBFqXETzOXec",
        "colab_type": "code",
        "colab": {
          "base_uri": "https://localhost:8080/",
          "height": 1000
        },
        "outputId": "d5802c36-fd89-4824-ebc6-7ad6221248da"
      },
      "source": [
        "for doc, cls in zip(pre_docs, clusters):\n",
        "    print(cls,doc)"
      ],
      "execution_count": 27,
      "outputs": [
        {
          "output_type": "stream",
          "text": [
            "0 asian exporter fear damage japan rift mounting trade friction japan raise fear among many asia exporting nation row could inflict far reaching economic damage businessmen official tell reuter correspondent asian capital move japan might boost protectionist sentiment lead curb american import product exporter conflict would hurt long run short term tokyo loss might gain impose 300 tariff import japanese electronics good april 17 retaliation japan allege failure stick pact sell semiconductor world market cost unofficial japanese estimate put impact tariff spokesman major electronics firm would virtually halt export product hit new tax able business spokesman leading japanese electronics firm matsushita electric industrial co ltd mc >. tariff remain place length time beyond month mean complete erosion export good subject tariff tom murtha stock analyst tokyo office broker james capel co >. taiwan businessmen official also worry aware seriousness threat japan serve warning us senior taiwanese trade official ask name taiwan trade trade surplus 15 last 95 surplus help swell taiwan foreign exchange reserves 53 among world large must quickly open market remove trade barrier cut import tariff allow import product want defuse problem possible retaliation paul sheen chairman textile exporter taiwan safe group >. senior official south korea trade promotion association trade dispute japan might also lead pressure south korea whose chief export similar japan last south korea trade surplus 1985 malaysia trade officer businessmen tough curb japan might allow hard hit producer semiconductor third country expand sales hong kong newspaper allege japan selling cost semiconductor electronics manufacturer view businessmen short term commercial advantage would outweigh pressure block import short term view lawrence mills director general federation hong kong industry whole purpose prevent import one day extend source much serious hong kong disadvantage action restrain trade last hong kong big export market accounting 30 domestically produce export australian government await outcome trade talks japan interest concern industry minister john button canberra last friday kind deterioration trade relations two country major trading partner serious matter button australia concern centre coal beef australia two large export japan also significant export country meanwhile japanese diplomatic manoeuvre solve trade stand continue japan ruling liberal democratic party yesterday outline package economic measure boost japanese economy measure propose include large supplementary budget record public works spending first half financial also call step spending emergency measure stimulate economy despite prime minister yasuhiro nakasone avow fiscal reform program deputy trade representative michael smith makoto kuroda japan deputy minister international trade industry miti due meet washington week effort end dispute\n",
            "0 china daily vermin eat grain stocks survey 19 province seven city show vermin consume seven china grain stocks china daily also 575 25 china fruit output left rot 30 vegetable paper blame waste inadequate storage bad preservation method government launch national programme reduce waste calling improve technology storage preservation greater production additive paper give details\n",
            "0 japan revise long term energy demand downwards ministry international trade industry miti revise long term energy supply demand outlook august meet forecast downtrend japanese energy demand ministry official miti expect lower projection primary energy supply 2000 550 kilolitre kl 600 decision follow emergence structural change japanese industry following rise value yen decline domestic electric power demand miti planning work revise energy supply demand outlook deliberation committee meeting agency natural resource energy official miti also review breakdown energy supply source include oil nuclear coal natural gas nuclear energy provide bulk japan electric power fiscal end march 31 supplying estimate 27 kilowatt hour basis follow oil 23 liquefy natural gas 21 note\n",
            "0 thai trade deficit widen first quarter thailand trade deficit widen baht first quarter ago business economics department janunary march import rose 65 baht 58 thailand improve business climate result 27 increase import raw material semi finish product country oil import bill however fell 23 first quarter due lower oil department first quarter export expand 60 baht 56 export growth smaller expect due lower earnings many key commodity include rice whose earnings decline 18 maize 66 sugar 45 tin 26 pineapple seven product register high export growth jewellery 64 clothing 57 rubber 35\n",
            "0 indonesia see cpo rising sharply indonesia expect crude palm oil cpo rise sharply 450 550 fob sometime better european demand fall malaysian output hasrul harahap junior minister tree crop tell indonesian reporter malaysian sumatran cpo around 332 cif delivery rotterdam trader harahap indonesia would maintain export despite making recent palm oil purchase malaysia could possibly increase international market indonesia world second large producer palm oil malaysia force import palm oil ensure supply moslem fasting month ramadan harahap better import cover temporary shortage lose export market indonesian export cpo calendar 530 500 468 500 1985 accord central bank figure\n",
            "0 australian foreign ship ban end nsw port hit tug crew new south wales nsw victoria western australia yesterday lift ban foreign flag ship carry container nsw port still disrupt separate dispute shipping source ban impose week ago pay claim prevent movement port nearly 20 vessel pay dispute go hearing arbitration commission today meanwhile disruption begin today cargo handling port sydney newcastle port kembla industrial action nsw port part week action call nsw trade labour council protest change state worker compensation laws shipping source various port union appear taking turn work short time start shift walk cargo handling port disrupt container movement affect stop altogether could long disruption go effect shipping movement\n",
            "0 indonesian commodity exchange may expand indonesian commodity exchange likely start trading least one new commodity possibly two calendar exchange chairman paian nainggolan tell reuters telephone interview trading palm oil saw timber pepper tobacco consider trading either crude palm oil cpo refine palm oil may also introduce question still consider trade minister rachmat saleh decision go ahead make fledgling exchange currently trade coffee rubber physicals open outcry system four days week several factor make us move cautiously nainggolan want move slowly safely make mistake undermine confidence exchange .\" physical rubber trading launch 1985 coffee add january rubber contract trade fob five month forward robusta coffee grade four five trade prompt delivery five month forward exchange official trade ministry exchange board consider introduction future trading later rubber one official feasibility study need first decision likely indonesia election april 23 trader trade minister saleh monday indonesia world second large producer natural rubber expand rubber marketing effort hope development exchange would help nainggolan exchange try boost overseas interest building contact end user team already south korea taiwan encourage direct use exchange delegation would also visit europe mexico latin american state encourage participation official infant exchange make good start although trading coffee disappoint transactions rubber start trading april 1985 december total 595 worth fob plus 184 rupiah rubber deliver locally latest exchange report trading coffee calendar amount 905 381 lots value 87 rupiah total membership exchange nine broker 44 trader\n",
            "0 sri lanka get usda approval wheat food department official department agriculture approve continental grain co sale 52 500 soft wheat 89 c f pacific northwest colombo shipment april 20 delivery\n",
            "0 western mining open new gold mine australia western mining corp holding ltd wmng wmc establish new joint venture gold mine northern territory cost 21 mine know goodall project 60 wmc 40 local w r grace co gra unit locate 30 km east adelaide river mt bundey wmc statement open pit mine conventional leach treatment plant expect produce 50 ounce gold first production mid 1988 annual ore capacity 750\n",
            "0 sumitomo bank aim quick recovery merger sumitomo bank ltd sumi certain lose status japan profitable bank result merger heiwa sogo bank financial analyst osaka base sumitomo desposits around 23 trillion yen merge heiwa sogo small struggle bank estimate 29 unrecoverable loan october despite link sumitomo president koh komatsu tell reuters confident bank quickly regain position back position first place within three years komatsu interview merger initially reduce sumitomo profitability efficiency vastly expand sumitomo branch network tokyo metropolitan area relatively weak financial analyst divide whether quickly gamble pay sumitomo may pay much heiwa sogo view smaller bank large debt others argue merger cost effective create comparable branch network scratch analyst agree bank aggressive expand overseas enter lucrative security business gear domestic competition question wisdom move make bold move put everything place largely hands kleinwort benson ltd financial analyst simon smithson among sumitomo problem limit place move enter security business taking american investment bank goldman sachs co sumitomo last august agree pay 500 limited partnership bank time least federal reserve board forbid exchange personnel increase business tie widely look lame duck fed strict sumitomo expect one analyst komatsu move pay time regulation change near future various things wait two three years 21st century komatsu komatsu also willing patient possible route security business home article 65 security exchange act japan version glass steagall act separate commercial investment banking wall two crumble komatsu hope deregulation create new opportunity need find new business chance komatsu case security relate case trust bank relate kind deregulation want .\" change occur sumitomo focus domestic security business profitable government bond dealing strengthening relations meiko security co ltd hold five komatsu sumitomo cautiously optimistic entering security business swiss universal bank subsidiary banca del gottardo finance ministry expect grant licence security subsidiary commercial banks soon following similar decision subsidiary european universal banks parent hold le 50 komatsu reluctant push hard similar decision gottardo subsidiary want make wave expect allow two three years like city banks sumitomo also pushing expand lending individual small medium business replace disappearing demand big business add analyst sumitomo devote lot time digest recent initiative include merger ail heiwa sogo sumitomo bold strategy kleinwort smithson question absorb juggling around next decade see strategy right wrong .\"\n",
            "0 subroto indonesia support tin pact extension mine energy minister subroto confirm indonesian support extension sixth international tin agreement ita new pact necessary ask reuters clarify statement monday pact allow lapse subroto indonesia ready back extension ita support extension sixth agreement seventh accord believe unnecessary .\" sixth ita expire end june unless two third majority member vote extension\n",
            "0 bundesbank allocate marks tender bundesbank accept bid marks today tender 28 day security repurchase pact fix rate 80 central bank spokesman banks bid total marks liquidity credit funds allocate today must buy back security pledge may 14 marks drain market today earlier pact expire bundesbank effectively withdraw marks market today allocation bundesbank spokesman answer enquiry withdrawal funds reflect tightening credit policy see context plentiful liquidity banking system banks hold average 59 marks bundesbank first six days month well clear likely april minimum reserve requirement 51 marks bundesbank spokesman note bidding marks outgo 14 banks show felt plenty liquidity dealer bundesbank keen prevent much liquidity accrue market would blunt effectiveness security repurchase agreement main open market instrument steering market interest rates two pact likely month next two week bundesbank currently steering call money although short term fluctuation outside range possible dealer\n",
            "0 bond corp still consider atlas mining bail bond corp holding ltd bona atlas consolidate mining development corp atlc mn still holding talks bail package trouble mining firm atlas statement atlas philippines big copper producer hit depress world copper report loss 976 38 peso ending december compare loss 53 1985 able cut losses scale copper operations central island cebu start second half atlas negotiation continue acquisition bond exist bank loan restructure gold loan memorandum understanding sign two side october last bond would acquire atlas total loan 275 repay mining gold atlas two side also discuss equity infusion atlas creation development fund exploration development gold property central province masbate wilson banks general manager bond corp international ltd hong kong tell reuters atlas statement negotiation reasonably accurate .\" banks bond corp seriously consider several investment philippines give details statement atlas development pre world war two underground mine masbate accelerate ore tonnage increase extend operation life least 1993\n",
            "0 china industrial output rise first quarter china industrial output rose 14 first quarter period people daily overseas edition growth rate compare target seven whole rather high base first quarter low side industrial output grow first quarter china industrial production normal product quality efficiency need improvement give details\n",
            "0 japan ministry open farm trade would hit japan agriculture ministry anger demand japan open farm product market tell official talks later month liberalisation would harm exist farm export japan senior ministry official import would drop due active sales drive supplier official decline name japan large customer farm product reasonable demand japan liberalise farm import market agriculture minister mutsuki kato insist japan open protect rice market also open wheat market volume origin regulate protect local farmer australia canada could increase wheat export competitive end user would also buy origin grain trader agriculture secretary richard lyng due visit japan talks april 16 27 ask japan offer rice market supplier remove quota beef citrus import country already cutting market australia large beef supplier japan try boost export prior expiry four beef accord next march 31 import corn fall due increase sales china south america japanese soybean import brazil expect rise sharply although remain large supplier feedgrain sales also drop japan open beef import since japan depend almost entirely feedgrain import mainly japanese official indication position come last december secretary agriculture daniel amstutz japan potential provide one large boost agricultural export beef market alone represent one new business also ask general agreement tariff trade investigate legality japanese import control farm product include fruit juice puree pulp tomato juice ketchup sauce peanuts prepare beef product miscellaneous bean help calm heat trade relations japan top business group keidanren urge government remove residual import restriction agricultural product agriculture minister kato rule emotional reaction senior ministry official farm issue become scapegoat trade pressure industrial sector japan large buyer farm product issue discuss table official\n",
            "0 amatil propose two five bonus issue amatil ltd amaa propose make two five bonus issue revaluation reserve shareholder register may 26 shareholder ask approve issue increase authorise capital 175 125 general meeting may statement new rank dividend declare october 31 amatil b industry plc bti l hold 41 stake expect maintain latest annual dividend rate 29 cent enlarge capital\n",
            "0 bowater pretax profits rise 15 stg 27 7p 20 7p div 0p 5p making 0p 25p turnover 34 stg 29 pretax profit 48 32 tax 14 name bowater industry plc bwtr l trading profit 63 45 trading profit include packaging associate product 23 14 merchanting services 18 tissue timber product interest debit 15 minority interest debit debit extraordinary item 15 credit debit\n",
            "0 k money market deficit forecast 250 stg bank england forecast shortage around 250 stg money market today among main factor affect liquidity bill mature official hands take treasury bill drain 505 stg bill repurchase market remove around 194 addition rise note circulation banker balance target drain around 110 stg partly offset outflow exchequer transactions add 690 stg system today\n",
            "0 south korea move slow growth trade surplus south korea trade surplus growing fast government start taking steps slow deputy prime minister kim mahn je tell press conference government plan increase investment speed opening local market foreign import gradually adjust currency hold surplus proper level .\" government would allow appreciate much short period time south korea pressure washington revalue want south korea cut trade surplus rose 1985 kim also economic planning minister prospect bright south korean economy government would try hold current account surplus around five next five years government projection eight gnp growth five current account surplus growth export seem reasonable early surplus growing fast expect trade ministry official south korea export rose 35 34 first three month import rose kim swing south korea current account surplus 65 890 dlr deficit 1985 significant surplus enable country reduce foreign debt last first time south korea foreign debt fell 44 46 1985 still among large asia huge amount foreign debt one major constraint development ... last major turning point korean economy kim kim government plannned reduce ratio foreign debt country gnp 20 1991 50 government however want accelerate reducing debt making excessive trade surplus kim sudden rise surplus would cause inflation lead trade friction seoul major trading partner particularly unite state need surplus reduce debt taking measure hold size surplus proper level kim\n",
            "0 finn canadian study mtbe production plant finland national oil neste oy neoy statement agree canadian firm study feasibility building plant edmonton canada produce replacement lead petrol prospective plant would cost estimate 270 canadian would produce methyl tertiary butyl ether mtbe raw material available locally partner study neste oy celanese canada inc hoechst celanese corporation trade mountain pipe line ltd vancouver b c edmonton site suitable raw material availability proximity pipeline transportation important capital operate advantage gain locating exist celanese canada site statement partner would look feasibility plant produce 500 per annum mtbe octane enhancer replace tetra ethyl lead mtbe would target unite state lead level gasoline lower health concern statement add canadian lead limit currently times high limit lead schedule virtual elimination canada 1993 create canadian demand mtbe finland neste oy whose turnover last five extensive experience mtbe major investment mtbe plant saudi arabia edmonton alberta plant would schedule go stream late 1989 statement\n",
            "0 cra sell forrest gold 76 whim creek whim creek consolidate nl consortium leading pay 76 55 acquisition cra ltd craa forrest gold pty ltd unit report yesterday cra whim creek disclose yesterday whim creek hold 44 consortium austwhim resource nl hold 27 croesus mining nl 29 statement report forrest gold two mine western australia produce combine 37 ounce gold also undeveloped gold project\n",
            "0 german industrial employment see stagnate number worker employ west german industrial sector stagnate last quarter 50 increase overall employment benefit services branch diw economic institute diw report add general downturn economy since last autumn negative effect willingness firm take worker refer mark downturn number worker take capital good sector new order manufacturing industry good mostly fall stagnate recent month data february finally show reversal trend rise\n",
            "0 bowater industry profit exceed expectation bowater industry plc bwtr l pretax profits 48 stg exceed market expectation around 40 push sharply high 491p 468p last night dealer later ease back 481p bowater report 32 stg profit 1985 statement accompany result underlie trend show improvement intend expand developing exist business seeking new opportunity add appoint david lyon currently manage director redland plc rdld l new chief executive analyst note bowater profits 18 stg 13 previously given boost pension benefit stg profit australia far east show greatest percentage rise jumping 55 15 profit k operations rose 30 24 europe 42\n",
            "0 citibank norway unit lose six crown citibank cci n >, norwegian subsidiary base bank make loss six crown although foreign banker expect show profits two lean years citibank oslo treasury head bjoern sejerstad tell reuters citibank one seven foreign bank subsidiary operate norway lost money restructure investment banking away commercial banking economic slump norway following last plunge oil foreign banks allow operate susbidiaries norway since 1985 foreign banking analyst oslo access norway second hand security equity market approve later spring lower primary reserve requirement would make profit citibank lost 490 crown norway 1985 sejerstad profit likely plan liberalisation better economic performance help steady oil around 18 barrel earlier chase manhattan bank cmb n subsidiary decide stop foreign exchange trading heavy losses focus instead fee base merchant banking\n",
            "0 vieille montagne conditions unfavourable sharp fall dollar zinc depreciation currency create unfavourable economic conditions vieille montagne sa vmnb br statement two factor led squeeze refining margin 18 24 fall sales services income despite unchanged level activity vieille montagne actively pursue restructure program report 198 franc loss 187 franc provisions closure electrolysis plant compare 250 franc profit 1985\n",
            "1 vieille montagne report loss dividend loss exceptional charge 198 franc profit 250 exceptional provisions closure viviez electrolysis plant 187 franc exceptional gain 22 sales services 16 51 franc 20 20 propose dividend ordinary 110 franc full name vieille montagne sa vmnb br >.\n",
            "0 ec mainly tin extension k stand take european community ec member international tin council except britain prepare back extension international tin agreement ec spokesman meeting ec state representative yesterday britain undertake communicate decision partner today ready yesterday take stand add nine ec state back extension spain portugal member international tin council raise objection common ec stance favour\n",
            "0 japan given little hope avoid sanction top official japan little chance convince drop threaten trade sanction despite effort japanese team left washington today michael armacost secretary state political affairs ask press conference whether japan move boost domestic economy open market could persuade impose tariff japanese import reply \"... probably early figure demonstrate situation turn around permit result describe .\" armacost hope japan take steps lift domestic economy reduce dependence export remove barrier import settle outstanding trade issue obvious problem moment trade area wish problem divert attention important area cooperation continue exist security political issue question whether cooperative action government reduce trade imbalance whether congress take action reduce protectionist legislation\n",
            "0 thai zinc export fall march thai zinc ingot export fell 882 march 764 february 008 march mineral resource department spokesman padaeng industry co ltd country sole exporter attribute decline lower stocks average first quarter 16 late 1985 begin exporting department major buyer include china japan philippines south korea singapore taiwan thailand export 842 zinc ingot first quarter 14 937 ago\n",
            "0 ec sugar tender hard predict london trade outcome today european community ec white sugar tender extremely difficult predict last week substantial award 102 350 high ever rebate 46 864 european currency unit ecus per 100 kilo trader believe tonnage would probably smaller around 60 decline give view likely restitution last week european commission accept 785 sugar intervention operator protest low rebate might determine factor today result add\n",
            "0 north yemen call sugar buying tender trade north yemen call buying tender saturday purchase 30 white sugar arrival june trader\n",
            "0 anheuser busch join bid san miguel anheuser busch inc bud n join several foreign bidder sequester philippines large food beverage maker san miguel corp sanm mn >, head government panel control tell reuters ramon diaz secretary presidential commission good government pcgg anheuser busch tell government interest buying 14 b san miguel disclose offer diaz australian brewer alan bond bond corp holding ltd offer 150 peso per b diaz new york investment bank allen co inc earlier interest buying 38 sequester tell reuters last month elder ixl ltd elxa >, melbourne base brewing also bid b hong kong economic journal last month quote spokesman australian stock broker jackson ltd saying barwon farmland ltd >, australian firm 30 ariadne australia ltd >, planning filipino branch order buy entire block 38 anheuser busch last make 150 dlr bid buy san miguel brewery ltd >, hong kong list 69 65 neptunia corp ltd >, san miguel corp subsidiary talks break last june two side could agree terms sale\n",
            "0 economic spotlight australian market boom australian market boom foreign fund manager redirect capital away unite state traditional market analyst high short term interest rates bullish stock market increasingly stable currency reflect massive inflow fresh funds last two month largely japanese investor analyst poll reuters fund manager want quality market park cash settle australia britain canada diversify volatile dollar instrument one percentage point fall key bond rates past month record month high currency 71 illustrate inflow official figure latest inflow investment capital available broker receive almost daily inquiry japan unite state people get trillion dollar slosh know ending attraction high interest rates reasonable currency stability national australia bank ltd economist brian hamley flight quality ',\" hamley australia may best economic position many country want put money .\" strong australian dollar also attract investor taking advantage appreciate currency volatility unit analyst looking favour market perhaps people would concern value dollar lloyd bank nza ltd chief economist buttrose put money australia entry cheap currency look stable ?\" turning capital permanent productive investment depend government economic policy disappear people lose confidence direction economy buttrose add offshore investor would carefully watch government promise tough economic statement may 14 happy invest bond vehicle yielding interest unobtainable elsewhere fund manager could easily reverse flow particularly japanese badly hurt past rapid falls australian dollar hefty jump bond rates analyst remain edgy money something deliver statement consider tough enough one might see substantial outflow buttrose offshore investor eager see australia take tough economic decision curb 100 dlr foreign debt stubborn current account deficit analyst giving us benefit doubt think would like leave money buttrose reserve bank policy also reflect increase interest investment australia need shield japanese investor rapid currency fluctuation reserve governor bob johnston last week acknowledge element target rate yen currency policy authorities could take eyes yen crucial role japanese investor analyst believe reserve bank work successfully recent month keep australian dollar within range 100 103 yen apart recovery weak dollar australian dollar also rise almost three trade weight basis last three week offshore buying also play role boom australian market follow wall street market also setting trend response weight domestic offshore funds pour equity particularly gold sector key ordinary index rose record 758 today nearly 20 level end gold index nearly double record 081 period property sector also seek japanese invest heavily unite state recent years turning attention undervalue real estate particularly tourism field analyst point recent sale sydney five star regent hotel japanese interest 145 indicative type property seek think find good value real estate long term fix capital investment kind investment australia need buttrose add\n",
            "0 economic spotlight kuwaiti economy kuwait oil reliant debt ride economy start pull nosedive oil determine pace recovery banker economist crucial ability 13 member opec hold oil around new benchmark 18 barrel northern hemisphere summer demand usually slacken banker estimate economy measure terms gross domestic product gdp shrink 19 real terms last contracting taking account inflation consumer 1985 slowing factor depress economic activity include old iran iraq war kuwait doorstep threaten emirate vital oil export lifeline gulf sap business confidence sentiment receive much need boost september series piecemeal steps combat debt crisis cause 1982 crash local stock market comprehensive new debt settlement program introduce crash result speculative spree forward trading left 95 post date cheque default cheque also use collateral consumer spending thus generate informal credit system much debt water big sum still owe individual dinar 15 outstanding bank credit end one quarter one third estimate banker rank bad doubtful debt government repeatedly allow banks go new debt settlement scheme entail reschedule problem credit 15 years depend whether debtor regular cash flow banks shareholder depositor right guarantee government edict vital significance country people financial sector big oil kuwait better place opec country ride oil glut banker economist kuwait opec quota 948 barrels per day bpd compare production capacity bpd mention last oil minister sheikh ali al khalifa al sabah strategic diversification downstream operations europe several years ago hefty refining investment home give guarantee market abroad enable sell one half output high grade refine oil product oil industry source kuwait able get average 00 barrel selling oil form process product gas oil kerosene naphtha rather crude banker rebound oil major reason cautious optimism reason low domestic inflation bottom fall import recent years sign government spending productive sector remain steady external account good shape estimate dinar current account surplus 16 1985 still achievement recession hit gulf kuwait petrodollar reserves mid put officially 80 earn investment income equivalent 65 first time since end oil boom reserves may enough prevent real budget deficit 87 fiscal ending june 30 banker budget portray banker mildly contractionary revenue 87 cut 38 spending doubling nominal deficit 33 dinar left income state reserves usually exclude official budget accounting forecast banker dinar 87 result shortfall banker early venture forecast economic growth next depend oil one summer important .\" cabinet affairs minister rashid al rashid last sunday cabinet ratify recommendation rationalise state spending favour productive sector reactivate economy give details banker expect spell 88 budget possibly june\n",
            "0 malaysia may meet oil palm target malaysia unlikely meet target output five oil palm calendar oil palm grower tell reuters output expect reach around unchanged drought low use fertiliser overstress palm grower ask reaction oil world newsletter report malaysia oil palm output likely drop sharply palm oil sell around 700 ringgit 115 ringgit le soybean oil malaysia must sell palm oil prevent stock buildup could damage industry leading grower tell reuters country palm oil stocks total 500 800 last march grower grower expect palm oil ease later due pressure south american soybean output current south american oilseed harvest mainly soybean likely around 25 previous 21 crop addition new soybean planting also expect enter market around november malaysian palm oil output peak new planting palm also likely slow 50 hectare expect plant new tree 100 although effects reduction felt another three years\n",
            "0 jardine matheson set two five bonus issue replacing b jardine matheson set two five bonus issue replacing b\n",
            "0 monier britain redland may bid diversify building material group monier ltd mnra talks taking place may lead britain redland plc rdld l making offer monier already hold chairman bill locke redland already hold 49 monier 156 28 issue brief notice australian stock exchange locke shareholder would advise soon discussion progress recommend keep monier trading high today previous peak 80 yesterday close well low 18 monier large concrete roof tile manufacturer australia new zealand world large marketer fly ash accord annual report 1985 end june 30 recently report first half 87 fell 15 02 17 09 earlier due australian housing downturn although foreign earnings rose\n",
            "0 isuzu plan interim dividend isuzu motor ltd isum pay dividend first half ending april 30 expect mark yen parent current loss first half due slow export cause yen appreciation spokesman pay dividend since end october 31 1983 pay five yen 44 yen current profit first half 1985\n",
            "0 japanese official take data microchip talks ministry international trade industry miti vice minister makoto kuroda leaf washington today data hope refute charge japan violate pact microchip trade three man japanese trade team already washington laying groundwork talks kuroda deputy trade representative michael smith aim persuade impose tariff certain japanese product kuroda taking new proposal nothing briefcase except explanation current situation kuroda tell daily newspaper asahi shimbun kuroda decision base incorrect data exaggerate sense miti power control market force excessive expectation stabilise supply demand relations disrupt excess inventory since 1985 take time kuroda also lay part blame low chip sales japan lack effort american firm fail talks tomorrow friday forestall sanction seek talks trade representative clayton yeutter official week talks unlikely delay imposition tariff\n",
            "0 bell group confirm standard charter stake bell group ltd blla hold 14 issue capital standard charter plc stch l acquiring one sentence statement bell headquarters confirm broker warburg security tell reuters london yesterday bell previously hold standard bell chairman robert holmes court also director standard available comment intention boost holding official contact reuters decline comment\n",
            "0 nippon steel deny china seeking japanese plant nippon steel corp nstc deny local newspaper report china seeking buy steel plant japanese firm plan suspend output recently announce rationalisation program mainichi shimbun quote nippon steel saying china state planning commission chinese firm ask japanese maker sell steel works rolling mills expand steelmaking cheaply name source nippon steel spokesman tell reuters china make official request consider sales moment mainichi quote nippon steel official saying reasonable would export use mills china paper china crude steel output total 52 calendar plan increase 80 1996 japan steel industry rationalisation plan aim cutting production capacity sharply next years\n",
            "0 jardine matheson replace b bonus issue jardine matheson holding ltd jard hk withdraw previously announce four one bonus issue b replace two five bonus issue ordinary statement firm expect pay total dividend le 40 cent expand capital jardine matheson decide withdraw issue joint announcement earlier today ronald li chairman stock exchange hong kong security commissioner ray astin listing new b would bar official announcement include proposal jardine matheson jardine statement quote chairman simon keswick saying continue believe issuing b would benefit shareholder regret given opportunity vote matter stage .\" keswick b issue benefit jardine matheson shareholder giving firm flexibility issue ordinary expansion future without dilute exist shareholder voting right however add certainly welcome secretary monetary affairs david nendick referral important matter standing committee law reform hopeful process lead development general principle embrace constituent hong kong market .\"\n",
            "0 japan given little hope avoid sanction top official japan little chance persuade drop threaten trade sanction despite effort japanese team left washington today michael armacost secretary state political affairs ask press conference whether japan move boost domestic economy open market could persuade impose tariff japanese import reply \"... probably early figure demonstrate situation turn around permit result describe .\" armacost hope japan take steps lift domestic economy reduce dependence export remove barrier import settle outstanding trade issue obvious problem moment trade area wish problem divert attention important area cooperation continue exist security political issue question whether cooperative action government reduce trade imbalance whether congress take action reduce protectionist legislation\n",
            "0 bank japan intervene soon tokyo opening bank japan buy small amount dollar shortly opening around 145 30 yen dealer central bank intervene medium size trading house sell dollar putting pressure currency dollar also support major electrical consumer good speculative dollar buyer around 145 25 yen add dollar open 145 33 yen 145 60 70 new york 145 25 close yesterday\n",
            "0 indonesian inflation rate 87 inflation indonesia fiscal 87 march 31 compare 66 previous information minister harmoko cabinet session discus economic situation\n",
            "0 k money market given 53 stg assistance bank england provide money market 53 stg assistance morning session compare bank estimate shortage system around 300 stg earlier revise 250 central bank make outright purchase bank bill comprise 46 stg band three seven stg band four 16\n",
            "0 san miguel deal hit lawsuit bid san miguel corp smc sanm mn buy back 38 sequester unite coconut planter bank ucpb hit two new lawsuit source philippine food brewery manila court yesterday issue injunction barring ucpb selling represent 31 smc outstanding capital stock 121 hearing april 21 petition file eduardo cojuangco former chairman smc ucpb cojuangco coconut industry investment fund ciif farmer rightful owner cojuangco hold trust ucpb represent blue chip investment petition ucpb plan sell smc serious breach fiduciary duty .\" smc source propose sale could also hold second derivative suit file security exchange commission sec eduardo de los angeles government nominee board de los angeles represent smc minority stockholder ask sec block transaction approve last week board april board sanction repurchase sequester 79 peso 126 peso per de los angeles tell sec retain earnings 33 peso would wipe purchase would prevent declaration dividend de los angeles purchase would also violate smc agreement creditor maintain debt equity ratio quote smc chief financial director ramon del rosario telling board transaction would boost ratio petition sec de los angeles amend earlier suit two week ago charge smc chairman andres soriano iii nine director violate duty de los angeles earlier complaint relate smc assume last december 26 dlr loan contract smc hong kong subsidiary neptunia corp payment loan assumption ratify last week board meeting arbitration panel set president corazon aquino resolve ownership issue expect submit report april 15 amend suit file eduardo de los angeles part continue attempt certain elements complete disregard fact questionable motive delay early disposition sequester san miguel corp statement coming san miguel corp ucpb reach agreement method payment suit direct contravention government express desire reach amicable settlement controversy april 15 statement add san miguel spokesman comment cojuangco court petition add statement coming us might interpret adversarial .\" meanwhile ramon diaz head government panel sequester last soriano eligible buy major portion unite state citizen sequester split 24 filipino 14 b available foreign buyer smc source soriano personally among prospective buyer would purchase soriano group smc neptunia unnamed institutional investor soriano name one buyer bid march 33 control ucpb sale abort diaz presidential commission good government sequester suspicion cojuangco close associate former president ferdinand marcos cojuangco life self impose exile .. grow 38 15 stock dividend announce last june objection soriano buying b diaz tell reuters everything hold .\" smc spokesman know controversy would resolve annual stockholder meeting schedule may 14 san miguel corp report sales revenue peso peso sales 1985 unaudited profit neighbourhood 700 peso increase 50 1985\n",
            "0 rain boost central queensland sugar cane crop good rain one four inch past days boost moisture stress sugar cane crop mackay burdekin region queensland central coast australian sugar producer association spokesman previously report region undergo severe dry spell partly relieve scatter rainfall since december following virtual failure summer wet season mills area reporting crop beginning look healthy green putting growth since rain begin spokesman brisbane although mackay burdekin crop outlook much better cane losses spokesman early rain need restore sub soil moisture elsewhere far north queensland bundaberg region southern queensland cane excellent condition mills forecasting record crop initial crop estimate probably compile towards end may cane crush normally run june december\n",
            "0 french trader forecast ec sugar tender european community ec expect award export licence today weekly tender 60 possibly 100 white sugar last week award 102 350 trader expect maximum rebate 46 40 46 50 ecus per 100 kilo compare last week 46 864 earlier trader london outcome tender hard predict last week substantial award place 785 sugar intervention believe tonnage would around 60 decline give rebate figure\n",
            "0 italy la fondiaria report higher profits italian insurer la fondiaria spa lfdi mi expect report consolidate group profit significantly higher 60 lira report 1985 statement parent profit last rise 72 lira report 1985 consolidate group premium total 700 lira compare 490 previous iniziativa meta inzi mi >, financial services unit montedison spa moni mi >, control large single stake florence base fondiaria 49\n",
            "0 nickel unlikely rise much shearson nickel unlikely rise significantly current level unless steps take reduce production shearson lehman brother quarterly nickel market report market recover slightly around 72 lb yesterday four low 55 early january due absence soviet nickel cathode delivery shearson see soviet shipment soon return last buoyant level ease current tightness output reduction producer take effect later likely offset increase elsewhere shearson nickel market virtually balance total non socialist world demand 556 compare estimate 544 production 505 504 import socialist country 47 50 ). forecast edge higher first quarter average 67 lb 77 last quarter average around 72 lb compare 76 using london metal exchange cash metal dollar terms assume average sterling exchange rate 55\n",
            "0 higher profit dutch chemical firm dsm fully state dutch chemical firm nv dsm dsmn profit rose 412 guilder 402 1985 turnover fell 17 guilder 24 1985 dividend pay dutch state capacity firm sole shareholder would raise 98 guilder 70 guilder 1985 initial comment result dsm drop turnover cause mainly losses fertilizer division\n",
            "0 poehl warn dollar fall bundesbank president karl otto poehl weak dollar would risky appreciation mark would damage prospect sustain west german economic growth speech institute contempory german affairs poehl would extremely risky policy aim substantial decline value dollar correct trade deficit .\" unite state could face vicious circle depreciation inflation depreciation take route poehl note west germany already take steps meet demand greater stimulation domestic economy accelerate tax cut cutting interest rates tolerate target money supply growth would happy bring forward five marks tax cut plan january 1988 beginning government face political constraint getting measure upper house west german parliament also limit impact west germany could accept export rising mark poehl west germany rely export one third gross national product substantial erosion export market could offset increase demand home appreciation mark could even obstacle growth poehl bundesbank tolerate rapid money supply growth last country enjoy low inflation external factor include low oil favourable terms trade given extra leeway poehl west germany face difficult dilemma monetary policy underlie rate inflation two report negative inflation rates last west germany affect exchange rate development time focus policy external side live expansionary money supply must careful concern japan trade surplus affect european country well unite state poehl welcome call louvre accord monetary official major industrialize country saying importance february 22 agreement stabilize exchange rates underestimate partner agree dollar right level change would damage growth remarkable change attitude especially part american colleague still danger correction dollar value could overshoot\n",
            "0 cincinnati bell csn start auxton auxt bid cincinnati bell inc start previously announce 15 75 dlr per tender offer auxton computer enterprise inc newspaper advertisement tender withdrawal right expire may five unless extend offer approve auxton board follow merger condition receipt majority auxton voting stock fully dilute basis\n",
            "0 california biotech cbio see 1st qtr loss california biotechnology inc expect report loss 300 600 first quarter due increase investment research manufacturing scaleup production research spending running 50 60 ago try commercialize product quickly possible increase expenditure expect continue several quarters operate result fluctuate quarter quarter depend timing significant payment commercial partner first three month lost 150 change fiscal calendar ending november 30 first quarter last end february 28 california biotech earn 114\n",
            "0 pall corp pll set quarterly dividend qtly div prior pay may one record april 20\n",
            "0 unilever seek buyer stauffer chemical unilever plc nv un issue prospectus investment banker goldman sachs co seeking buyer stauffer chemical co acquire recent takeover chesebrough pond inc >, unilever spokesman note unilever indicate plan dispose stauffer plus smaller assets chesebrough since bid make december stauffer sale prospectus sent recent week number express interest unilever spokesman decline much group expect receive stauffer chesebrough footwear tennis racket business also likely dispose add immediately available financial information stauffer wholly limited add nine month sales september unilever aquired chesebrough order benefit well know toiletry brand food product\n",
            "0 conrac corp enter talks acquisition several party conrac corp enter talks acquisition several party\n",
            "0 conrac cax merger talks several conrac corp sait start negotiation several interest party possible acquisition assurance transaction result talks give details mark iv industry inc iv start tender conrac 25 march 24 conrac starting bid conrac producer marketer computer relate information display communications equipment also produce special purpose architectural industrial product code phone corp producer telephone answer machine report profits 16 sales 153 nearly outstanding\n",
            "0 japan ldp urge import farm item ruling liberal democratic party ldp propose expand import farm product name complaint japan general agreement tariff trade last ldp official product include fruit juice puree pulp tomato product peanuts prepare beef product bean proposal use basis detail ldp economic package cut trade surplus party expect formalise package april 19 ldp general council chairman shintaro abe visit washington\n",
            "1 computer research inc core 2nd qtr feb 28 14 nine 217 572 153 454 rev 530 273 558 924 1st half 19 299 838 174 739 rev 865 249 495 021\n",
            "0 australian foreign ship ban end tug crew new south wales nsw victoria western australia yesterday lift ban foreign flag ship carry container nsw port still disrupt separate dispute shipping source ban impose week ago pay claim prevent movement port nearly 20 vessel pay dispute go hearing arbitration commission today meanwhile disruption begin today cargo handling port sydney newcastle port kembla industrial action nsw port part week action call nsw trade labour council protest change state worker compensation laws\n",
            "1 rubbermaid inc 1st qtr 28 22 rubbermaid inc 1st qtr 28 22\n",
            "0 independent chairman dutch cargo dispute two side rotterdam port general cargo dispute agree appoint independent chairman han lammers preside future meeting employer spokesman gerard zeebregts lammers queen commissioner province flevoland act mediator draw agenda procedure meeting employer union work practice agreement propose redundancy two month strike sector begin january 19 protest employer proposal 350 redundancy strong workforce strike call main port union fnv march 13 following amsterdam court interim injunction redundancy procedural grounds court due make final ruling may zeebregts expect judgment go employer therefore likely restart complicate legal redundancy procedure near future meanwhile dispute new work practice agreement port grain sector continue 30 maintenance worker strike although loading affect spokesman graan elevator mij large employer sector employer write union asking reconsider position meeting union member call tomorrow\n",
            "1 electro rent corp elrc 3rd qtr feb 28 20 32 358 476 rev 27 26 avg shrs 852 764 nine mths 68 05 957 129 rev 82 78 avg shrs 316 754\n",
            "1 rubbermaid inc rbd 1st qtr 28 22 20 16 sales 238 188\n",
            "1 wtc international inc waf 4th qtr feb 28 profit 13 loss 33 profit 149 loss 833 rev 51 47 profit 24 loss 18 profit 050 loss 551 rev 200 180\n",
            "0 k money market given 166 stg help bank england provide market help total 166 stg afternoon band one buy 31 stg treasury bill three stg bank bill band two buy 69 stg bank bill 13 16 addition buy 63 stg band three bank bill bring total assistance bank far today 219 stg liquidity shortage estimate around 300 stg\n",
            "1 mead corp 1st qtr oper 09 67 mead corp 1st qtr oper 09 67\n",
            "0 rubbermaid rbd see continue improvement rubbermaid inc incoming order rates continue strong expect continue recording favorable comparison remain quarter today report first quarter earnings 20 sales 238 earnings 16 sales 188\n",
            "1 cayuga savings bank cayb 1st qtr 55 41 494 204 avg shrs 896 655 494 155\n",
            "1 johnstown savings bank fsb jsbk 1st qtr 33 given 642 484 362 883 note go public october include pretax loan loss provisions 90 56 250 gain sale security 113 432 88 946\n",
            "1 home savings loan association inc hsld 2nd qtr march 31 57 given 790 874 628 020 1st half 15 given 588 985 073 163 note recently go public\n",
            "1 geodynamics corp gdyn 3rd qtr feb 27 21 20 596 594 rev 693 164 nine mths 61 58 784 653 rev 26 23\n",
            "0 swedish unemployment steady march swedish unemployment steady workforce march compare previous month central bureau statistics march figure stand\n",
            "0 compaq cpq expect higher first quarter compaq computer corp expect sales earnings first quarter higher analyst expectation due strong demand product rod canion president chief executive officer compaq expect sales 200 period ending march 31 analyst estimate 165 185 add earnings per would exceed analyst estimate high 42 compaq report earnings 30 sales 144 first quarter demand deskpro 386 portable iii new compaq deskpro 286 contribute sales increase initial demand recently introduce compaq portable iii new model compaq deskpro 286 exceed compaq personal computer canion saw continue demand personal computer across quarter march particularly strong month\n",
            "0 international iu sell insurance unit international co reach preliminary agreement sell hawaiian insurance cos hawaiian electric industry inc >. terms transaction disclose transaction subject execution definitive agreement certain governmental approval approval boards director involve international hawaiian electric plan purchase part strategy increase investment select service industry hawaii include financial services\n",
            "1 cxr telcom corp cxrl 3rd qtr march 31 215 16 rev 800 100 nine mths one 620 231 rev 100 100\n",
            "0 proxmire outline insider trading legislation senate banking committee chairman william proxmire wi plan introduce legislation shortly require greater public disclosure corporate takeover fair treatment shareholder speaking national association manufacturer proxmire recent insider trading stock scandal increase chance congress act curb abuse propose legislation would provide disclosure would fair shareholder would insure takeover properly finance among provisions bill would reduce threshold notify security exchange commission investor group acquire percentage stock three current five threshold within days proxmire addition would pre notificaton requirement investor intend aquire three would file sec proxmire pre notification requirement mean prevent arbitrager jump general public knowing coming takeover attempt proxmire would call extend period tender offer must keep open williams act 60 business days current 20 business days bill would provide private suit acquiring violate time period tender offer correct abuse financing takeover proxmire legislation would aim insure current margin requirments properly enforce federal reserve board 50 margin requirement purchasing stock proxmire generally enforce hostile takeover rather group individual leading takeover declare raise capital takeover without actually putting money proxmire bill would allow private suit damages failure meet federal reserve 50 margin requirement bill also would require disclose several investor form alliance hostile takeover pickens icahn get together want people know proxmire proxmire favor approach use britain towards two tiered tender offer insure shareholder recieve equal treatment expect amendment bill also would cover defensive mechanism green mail poison pill proxmire intend introduce bill later month predict senate committee would act spring hopeful congress could pass bill\n",
            "1 helen troy corp hele 4th qtr feb 28 17 13 598 392 sales 474 avg shrs 432 045 oper profit 05 loss 47 oper profit 498 loss 427 sales 52 40 avg shrs 320 060 note latest exclude 782 dlr tax credit\n",
            "0 banker trust bt put brazil non accrual banker trust new york corp place approximately 540 medium long term loan brazil non accrual status first quarter income reduce seven result brazil suspend interest payment 68 medium long term debt february 22 banking regulation require banks stop accrue interest loan payment 90 days overdue banker trust act high potential continue suspension would result reaching 90 day limit second quarter .\" assume cash payment current interest rates receive rest banker trust estimate full income would reduce 30 banker trust assume debt negotiation brazil commercial bank lender lead resumption interest payment negotiation resume new york friday central bank governor francisco gros expect ask banks 90 day rollover term debt mature april 15\n",
            "1 first mercantile currency fund inc 1st qtr profit 63 22 775 868 276 446 rev 255 742 706 130\n",
            "0 uk intervention bd ec sell 118 350 white sugar rebate 46 496 ecus uk intervention bd ec sell 118 350 white sugar rebate 46 496 ecus\n",
            "0 stoltenberg see move strengthen paris accord west german finance minister gerhard stoltenberg today meeting major industrial country would look ways strengthening paris accord stabilize foreign exchange rates stoltenberg tell journalist saw fundamental weakness february 22 agreement group five country canada keep exchange rates near current level decline measure would discuss ahead communique group seven minister later today stoltenberg bundesbank president karl otto poehl importance paris agreement also know louvre accord underestimate stoltenberg greater agreement among major country six month ago time annual meeting international monetary fund world bank mark sharp discord unite state major trading partner fundamental weakness paris accord looking ways strengthening want discus stoltenberg louvre agreement working despite slight firm yen dollar poehl note dollar mark parity unchanged since february 22 without bundesbank sell marks support dollar louvre agreement honor market poehl west germany live side bargain paris prepare way tax cut accelerate way stimulate growth poehl however japan yet fulfil pledge economic stimulation see unite state able promise paris reducing budget deficit get congress add stoltenberg reiterate west german concern fall dollar note mark 85 dollar nearly 20 trade weight basis cannot expect go unnoticed economy german problem european problem\n",
            "0 k intervention board details ec sugar sales total 118 350 current series white sugar receive export rebate maximum 46 496 european currency unit ecus per 100 kilo today european community ec tender k intervention board trader k receive 37 800 france 34 500 west germany 20 belgium 18 500 spain 800 denmark 750 add earlier today london trader decline give project view level subsidy although total tonnage award would around 60 paris trader foresee 60 100 authorise export 46 40 46 50 ecu subsidy cumulative sales authorisation current season 87 stand 194 970 43 week ). last week saw 102 350 white authorise export licence end sep higest ever rebate 46 864 european currency unit ecus per 100 kilo\n",
            "0 mead mea expect improve earnings mead corp outlook major paper market look strong second quarter augur well earnings generally strong outlook bode well significantly improve earnings burnell roberts chairman chief executive officer earlier report first quarter earnings 34 09 versus 20 65 last first quarter report earnings continue operations 109 50 mead first quarter benefit strong market conditions improve operations combination capital improvement program employee involvement pay throughout paper operations roberts add mead pulp paperboard business operate well improve strong demand place product sell position middle mead sales unbleached coat paperboard particularly strong 13 versus first quarter\n",
            "1 amertek inc atekf 1st qtr profit 20 loss three profit 849 299 loss 82 512 rev 929 138 849 224\n",
            "1 alex brown inc absb 1st qtr march 27 primary 78 68 dilute 75 68 qtrly div six five 929 569 rev 78 61 note pay date qtrly div april 28 shareholder record april 20\n",
            "1 town country jewelry manufacturing tcjc 4thh qtr feb 28 46 22 139 034 854 182 sales 30 20 avg shrs 280 854 559 646 34 15 935 117 156 171 sales 107 71 avg shrs 281 387 616 183 note town country jewelry manufacturing corp\n",
            "0 paxar corp paks make acquisition paxar corp acquire thermo print gmbh lohn west germany distributor paxar product undisclosed terms\n",
            "0 mark work wearhouse ltd jan 31 32 975 145 sales 159 147\n",
            "0 canadian bashaw erskine resource merge canadian bashaw leduc oil gas ltd agree merge erskine resource ltd terms disclose ownership combine 18 current shareholder canadian bashaw 81 current shareholder erskine\n",
            "0 entourage entg first quarter loss entourage international inc first quarter loss 104 357 incurring 70 costs internal audit report shareholder proxy soliciation 24 startup expense opening london office go public entourage also start marketing solid perfume package lipstick tube call amadeus retailing 15 also acquire north country medium group video production\n",
            "1 mr jax fashion inc feb 28 58 29 141 440 sales 24 13\n",
            "1 f w woolworth co hike dividend 33 28 f w woolworth co hike dividend 33 28\n",
            "1 f w woolworth co z hike dividend qtly div 33 28 prior pay june record may\n",
            "0 dutch sugar beet planting half finish roughly half expect 130 hectare dutch sugar beet crop already ground spokesman suiker unie large sugar processor netherlands tell reuters conditions generally good average sow date crop expect around april april 23 last average april 14 spokesman add far early yet kind output expect come harvest september least crop good start last netherlands plant record 137 600 hectare sugar beet produce record white sugar substantially country combine b quota 872 however self impose quota system introduce aim cutting planting 130 hectare reducing white sugar output around 915 minimise amount non quota c sugar produce farmer record growing suger beet allot quota expect prevent area boost dairy cereal farmer move sugar\n",
            "1 j p morgan co inc 1st qtr 22 28 j p morgan co inc 1st qtr 22 28\n",
            "0 ec commission details sugar tender ec commission confirm grant export licence 118 350 current series white sugar maximum export rebate 46 496 european currency unit ecus per 100 kilo trader france receive 34 500 k 37 800 west germany 20 belgium 18 500 spain 800 denmark 750\n",
            "0 volkswagen dividend decision due tomorrow volkswagen ag vowg f >, vw due make formal announcement dividend tomorrow saying 1985 level marks per ordinary would hold despite massive losses suspect foreign currency fraud spokesman vw supervisory board meet tomorrow discus payout statement make afterwards vw also disclose profits reach 1985 level despite provisions possible 480 marks link currency affair figure virtually 477 mark 1985 parent profit vw first confirm currency scandal march management board would propose unchanged mark dividend supervisory board dividend marks would propose new preference analyst saw supervisory board approval management board proposal virtually formality anything else would surprise one source vw would dig reserves maintain disclose profit parent reserves stand around three marks end 1985\n"
          ],
          "name": "stdout"
        }
      ]
    },
    {
      "cell_type": "markdown",
      "metadata": {
        "id": "Z0wV57f-0BfD",
        "colab_type": "text"
      },
      "source": [
        "次に，k=5の場合のクラスタリングを示す．"
      ]
    },
    {
      "cell_type": "code",
      "metadata": {
        "id": "HLx9TkT2z_3e",
        "colab_type": "code",
        "colab": {
          "base_uri": "https://localhost:8080/",
          "height": 1000
        },
        "outputId": "65c95b6c-9350-425a-b54d-cf10c330901a"
      },
      "source": [
        "num_clusters = 5\n",
        "km = KMeans(n_clusters=num_clusters, random_state = 0)\n",
        "clusters = km.fit_predict(tf_idf)\n",
        "\n",
        "for doc, cls in zip(pre_docs, clusters):\n",
        "    print(cls,doc)"
      ],
      "execution_count": 32,
      "outputs": [
        {
          "output_type": "stream",
          "text": [
            "4 asian exporter fear damage japan rift mounting trade friction japan raise fear among many asia exporting nation row could inflict far reaching economic damage businessmen official tell reuter correspondent asian capital move japan might boost protectionist sentiment lead curb american import product exporter conflict would hurt long run short term tokyo loss might gain impose 300 tariff import japanese electronics good april 17 retaliation japan allege failure stick pact sell semiconductor world market cost unofficial japanese estimate put impact tariff spokesman major electronics firm would virtually halt export product hit new tax able business spokesman leading japanese electronics firm matsushita electric industrial co ltd mc >. tariff remain place length time beyond month mean complete erosion export good subject tariff tom murtha stock analyst tokyo office broker james capel co >. taiwan businessmen official also worry aware seriousness threat japan serve warning us senior taiwanese trade official ask name taiwan trade trade surplus 15 last 95 surplus help swell taiwan foreign exchange reserves 53 among world large must quickly open market remove trade barrier cut import tariff allow import product want defuse problem possible retaliation paul sheen chairman textile exporter taiwan safe group >. senior official south korea trade promotion association trade dispute japan might also lead pressure south korea whose chief export similar japan last south korea trade surplus 1985 malaysia trade officer businessmen tough curb japan might allow hard hit producer semiconductor third country expand sales hong kong newspaper allege japan selling cost semiconductor electronics manufacturer view businessmen short term commercial advantage would outweigh pressure block import short term view lawrence mills director general federation hong kong industry whole purpose prevent import one day extend source much serious hong kong disadvantage action restrain trade last hong kong big export market accounting 30 domestically produce export australian government await outcome trade talks japan interest concern industry minister john button canberra last friday kind deterioration trade relations two country major trading partner serious matter button australia concern centre coal beef australia two large export japan also significant export country meanwhile japanese diplomatic manoeuvre solve trade stand continue japan ruling liberal democratic party yesterday outline package economic measure boost japanese economy measure propose include large supplementary budget record public works spending first half financial also call step spending emergency measure stimulate economy despite prime minister yasuhiro nakasone avow fiscal reform program deputy trade representative michael smith makoto kuroda japan deputy minister international trade industry miti due meet washington week effort end dispute\n",
            "3 china daily vermin eat grain stocks survey 19 province seven city show vermin consume seven china grain stocks china daily also 575 25 china fruit output left rot 30 vegetable paper blame waste inadequate storage bad preservation method government launch national programme reduce waste calling improve technology storage preservation greater production additive paper give details\n",
            "4 japan revise long term energy demand downwards ministry international trade industry miti revise long term energy supply demand outlook august meet forecast downtrend japanese energy demand ministry official miti expect lower projection primary energy supply 2000 550 kilolitre kl 600 decision follow emergence structural change japanese industry following rise value yen decline domestic electric power demand miti planning work revise energy supply demand outlook deliberation committee meeting agency natural resource energy official miti also review breakdown energy supply source include oil nuclear coal natural gas nuclear energy provide bulk japan electric power fiscal end march 31 supplying estimate 27 kilowatt hour basis follow oil 23 liquefy natural gas 21 note\n",
            "3 thai trade deficit widen first quarter thailand trade deficit widen baht first quarter ago business economics department janunary march import rose 65 baht 58 thailand improve business climate result 27 increase import raw material semi finish product country oil import bill however fell 23 first quarter due lower oil department first quarter export expand 60 baht 56 export growth smaller expect due lower earnings many key commodity include rice whose earnings decline 18 maize 66 sugar 45 tin 26 pineapple seven product register high export growth jewellery 64 clothing 57 rubber 35\n",
            "4 indonesia see cpo rising sharply indonesia expect crude palm oil cpo rise sharply 450 550 fob sometime better european demand fall malaysian output hasrul harahap junior minister tree crop tell indonesian reporter malaysian sumatran cpo around 332 cif delivery rotterdam trader harahap indonesia would maintain export despite making recent palm oil purchase malaysia could possibly increase international market indonesia world second large producer palm oil malaysia force import palm oil ensure supply moslem fasting month ramadan harahap better import cover temporary shortage lose export market indonesian export cpo calendar 530 500 468 500 1985 accord central bank figure\n",
            "4 australian foreign ship ban end nsw port hit tug crew new south wales nsw victoria western australia yesterday lift ban foreign flag ship carry container nsw port still disrupt separate dispute shipping source ban impose week ago pay claim prevent movement port nearly 20 vessel pay dispute go hearing arbitration commission today meanwhile disruption begin today cargo handling port sydney newcastle port kembla industrial action nsw port part week action call nsw trade labour council protest change state worker compensation laws shipping source various port union appear taking turn work short time start shift walk cargo handling port disrupt container movement affect stop altogether could long disruption go effect shipping movement\n",
            "4 indonesian commodity exchange may expand indonesian commodity exchange likely start trading least one new commodity possibly two calendar exchange chairman paian nainggolan tell reuters telephone interview trading palm oil saw timber pepper tobacco consider trading either crude palm oil cpo refine palm oil may also introduce question still consider trade minister rachmat saleh decision go ahead make fledgling exchange currently trade coffee rubber physicals open outcry system four days week several factor make us move cautiously nainggolan want move slowly safely make mistake undermine confidence exchange .\" physical rubber trading launch 1985 coffee add january rubber contract trade fob five month forward robusta coffee grade four five trade prompt delivery five month forward exchange official trade ministry exchange board consider introduction future trading later rubber one official feasibility study need first decision likely indonesia election april 23 trader trade minister saleh monday indonesia world second large producer natural rubber expand rubber marketing effort hope development exchange would help nainggolan exchange try boost overseas interest building contact end user team already south korea taiwan encourage direct use exchange delegation would also visit europe mexico latin american state encourage participation official infant exchange make good start although trading coffee disappoint transactions rubber start trading april 1985 december total 595 worth fob plus 184 rupiah rubber deliver locally latest exchange report trading coffee calendar amount 905 381 lots value 87 rupiah total membership exchange nine broker 44 trader\n",
            "0 sri lanka get usda approval wheat food department official department agriculture approve continental grain co sale 52 500 soft wheat 89 c f pacific northwest colombo shipment april 20 delivery\n",
            "2 western mining open new gold mine australia western mining corp holding ltd wmng wmc establish new joint venture gold mine northern territory cost 21 mine know goodall project 60 wmc 40 local w r grace co gra unit locate 30 km east adelaide river mt bundey wmc statement open pit mine conventional leach treatment plant expect produce 50 ounce gold first production mid 1988 annual ore capacity 750\n",
            "4 sumitomo bank aim quick recovery merger sumitomo bank ltd sumi certain lose status japan profitable bank result merger heiwa sogo bank financial analyst osaka base sumitomo desposits around 23 trillion yen merge heiwa sogo small struggle bank estimate 29 unrecoverable loan october despite link sumitomo president koh komatsu tell reuters confident bank quickly regain position back position first place within three years komatsu interview merger initially reduce sumitomo profitability efficiency vastly expand sumitomo branch network tokyo metropolitan area relatively weak financial analyst divide whether quickly gamble pay sumitomo may pay much heiwa sogo view smaller bank large debt others argue merger cost effective create comparable branch network scratch analyst agree bank aggressive expand overseas enter lucrative security business gear domestic competition question wisdom move make bold move put everything place largely hands kleinwort benson ltd financial analyst simon smithson among sumitomo problem limit place move enter security business taking american investment bank goldman sachs co sumitomo last august agree pay 500 limited partnership bank time least federal reserve board forbid exchange personnel increase business tie widely look lame duck fed strict sumitomo expect one analyst komatsu move pay time regulation change near future various things wait two three years 21st century komatsu komatsu also willing patient possible route security business home article 65 security exchange act japan version glass steagall act separate commercial investment banking wall two crumble komatsu hope deregulation create new opportunity need find new business chance komatsu case security relate case trust bank relate kind deregulation want .\" change occur sumitomo focus domestic security business profitable government bond dealing strengthening relations meiko security co ltd hold five komatsu sumitomo cautiously optimistic entering security business swiss universal bank subsidiary banca del gottardo finance ministry expect grant licence security subsidiary commercial banks soon following similar decision subsidiary european universal banks parent hold le 50 komatsu reluctant push hard similar decision gottardo subsidiary want make wave expect allow two three years like city banks sumitomo also pushing expand lending individual small medium business replace disappearing demand big business add analyst sumitomo devote lot time digest recent initiative include merger ail heiwa sogo sumitomo bold strategy kleinwort smithson question absorb juggling around next decade see strategy right wrong .\"\n",
            "4 subroto indonesia support tin pact extension mine energy minister subroto confirm indonesian support extension sixth international tin agreement ita new pact necessary ask reuters clarify statement monday pact allow lapse subroto indonesia ready back extension ita support extension sixth agreement seventh accord believe unnecessary .\" sixth ita expire end june unless two third majority member vote extension\n",
            "4 bundesbank allocate marks tender bundesbank accept bid marks today tender 28 day security repurchase pact fix rate 80 central bank spokesman banks bid total marks liquidity credit funds allocate today must buy back security pledge may 14 marks drain market today earlier pact expire bundesbank effectively withdraw marks market today allocation bundesbank spokesman answer enquiry withdrawal funds reflect tightening credit policy see context plentiful liquidity banking system banks hold average 59 marks bundesbank first six days month well clear likely april minimum reserve requirement 51 marks bundesbank spokesman note bidding marks outgo 14 banks show felt plenty liquidity dealer bundesbank keen prevent much liquidity accrue market would blunt effectiveness security repurchase agreement main open market instrument steering market interest rates two pact likely month next two week bundesbank currently steering call money although short term fluctuation outside range possible dealer\n",
            "4 bond corp still consider atlas mining bail bond corp holding ltd bona atlas consolidate mining development corp atlc mn still holding talks bail package trouble mining firm atlas statement atlas philippines big copper producer hit depress world copper report loss 976 38 peso ending december compare loss 53 1985 able cut losses scale copper operations central island cebu start second half atlas negotiation continue acquisition bond exist bank loan restructure gold loan memorandum understanding sign two side october last bond would acquire atlas total loan 275 repay mining gold atlas two side also discuss equity infusion atlas creation development fund exploration development gold property central province masbate wilson banks general manager bond corp international ltd hong kong tell reuters atlas statement negotiation reasonably accurate .\" banks bond corp seriously consider several investment philippines give details statement atlas development pre world war two underground mine masbate accelerate ore tonnage increase extend operation life least 1993\n",
            "3 china industrial output rise first quarter china industrial output rose 14 first quarter period people daily overseas edition growth rate compare target seven whole rather high base first quarter low side industrial output grow first quarter china industrial production normal product quality efficiency need improvement give details\n",
            "4 japan ministry open farm trade would hit japan agriculture ministry anger demand japan open farm product market tell official talks later month liberalisation would harm exist farm export japan senior ministry official import would drop due active sales drive supplier official decline name japan large customer farm product reasonable demand japan liberalise farm import market agriculture minister mutsuki kato insist japan open protect rice market also open wheat market volume origin regulate protect local farmer australia canada could increase wheat export competitive end user would also buy origin grain trader agriculture secretary richard lyng due visit japan talks april 16 27 ask japan offer rice market supplier remove quota beef citrus import country already cutting market australia large beef supplier japan try boost export prior expiry four beef accord next march 31 import corn fall due increase sales china south america japanese soybean import brazil expect rise sharply although remain large supplier feedgrain sales also drop japan open beef import since japan depend almost entirely feedgrain import mainly japanese official indication position come last december secretary agriculture daniel amstutz japan potential provide one large boost agricultural export beef market alone represent one new business also ask general agreement tariff trade investigate legality japanese import control farm product include fruit juice puree pulp tomato juice ketchup sauce peanuts prepare beef product miscellaneous bean help calm heat trade relations japan top business group keidanren urge government remove residual import restriction agricultural product agriculture minister kato rule emotional reaction senior ministry official farm issue become scapegoat trade pressure industrial sector japan large buyer farm product issue discuss table official\n",
            "4 amatil propose two five bonus issue amatil ltd amaa propose make two five bonus issue revaluation reserve shareholder register may 26 shareholder ask approve issue increase authorise capital 175 125 general meeting may statement new rank dividend declare october 31 amatil b industry plc bti l hold 41 stake expect maintain latest annual dividend rate 29 cent enlarge capital\n",
            "2 bowater pretax profits rise 15 stg 27 7p 20 7p div 0p 5p making 0p 25p turnover 34 stg 29 pretax profit 48 32 tax 14 name bowater industry plc bwtr l trading profit 63 45 trading profit include packaging associate product 23 14 merchanting services 18 tissue timber product interest debit 15 minority interest debit debit extraordinary item 15 credit debit\n",
            "2 k money market deficit forecast 250 stg bank england forecast shortage around 250 stg money market today among main factor affect liquidity bill mature official hands take treasury bill drain 505 stg bill repurchase market remove around 194 addition rise note circulation banker balance target drain around 110 stg partly offset outflow exchequer transactions add 690 stg system today\n",
            "4 south korea move slow growth trade surplus south korea trade surplus growing fast government start taking steps slow deputy prime minister kim mahn je tell press conference government plan increase investment speed opening local market foreign import gradually adjust currency hold surplus proper level .\" government would allow appreciate much short period time south korea pressure washington revalue want south korea cut trade surplus rose 1985 kim also economic planning minister prospect bright south korean economy government would try hold current account surplus around five next five years government projection eight gnp growth five current account surplus growth export seem reasonable early surplus growing fast expect trade ministry official south korea export rose 35 34 first three month import rose kim swing south korea current account surplus 65 890 dlr deficit 1985 significant surplus enable country reduce foreign debt last first time south korea foreign debt fell 44 46 1985 still among large asia huge amount foreign debt one major constraint development ... last major turning point korean economy kim kim government plannned reduce ratio foreign debt country gnp 20 1991 50 government however want accelerate reducing debt making excessive trade surplus kim sudden rise surplus would cause inflation lead trade friction seoul major trading partner particularly unite state need surplus reduce debt taking measure hold size surplus proper level kim\n",
            "4 finn canadian study mtbe production plant finland national oil neste oy neoy statement agree canadian firm study feasibility building plant edmonton canada produce replacement lead petrol prospective plant would cost estimate 270 canadian would produce methyl tertiary butyl ether mtbe raw material available locally partner study neste oy celanese canada inc hoechst celanese corporation trade mountain pipe line ltd vancouver b c edmonton site suitable raw material availability proximity pipeline transportation important capital operate advantage gain locating exist celanese canada site statement partner would look feasibility plant produce 500 per annum mtbe octane enhancer replace tetra ethyl lead mtbe would target unite state lead level gasoline lower health concern statement add canadian lead limit currently times high limit lead schedule virtual elimination canada 1993 create canadian demand mtbe finland neste oy whose turnover last five extensive experience mtbe major investment mtbe plant saudi arabia edmonton alberta plant would schedule go stream late 1989 statement\n",
            "2 cra sell forrest gold 76 whim creek whim creek consolidate nl consortium leading pay 76 55 acquisition cra ltd craa forrest gold pty ltd unit report yesterday cra whim creek disclose yesterday whim creek hold 44 consortium austwhim resource nl hold 27 croesus mining nl 29 statement report forrest gold two mine western australia produce combine 37 ounce gold also undeveloped gold project\n",
            "4 german industrial employment see stagnate number worker employ west german industrial sector stagnate last quarter 50 increase overall employment benefit services branch diw economic institute diw report add general downturn economy since last autumn negative effect willingness firm take worker refer mark downturn number worker take capital good sector new order manufacturing industry good mostly fall stagnate recent month data february finally show reversal trend rise\n",
            "2 bowater industry profit exceed expectation bowater industry plc bwtr l pretax profits 48 stg exceed market expectation around 40 push sharply high 491p 468p last night dealer later ease back 481p bowater report 32 stg profit 1985 statement accompany result underlie trend show improvement intend expand developing exist business seeking new opportunity add appoint david lyon currently manage director redland plc rdld l new chief executive analyst note bowater profits 18 stg 13 previously given boost pension benefit stg profit australia far east show greatest percentage rise jumping 55 15 profit k operations rose 30 24 europe 42\n",
            "2 citibank norway unit lose six crown citibank cci n >, norwegian subsidiary base bank make loss six crown although foreign banker expect show profits two lean years citibank oslo treasury head bjoern sejerstad tell reuters citibank one seven foreign bank subsidiary operate norway lost money restructure investment banking away commercial banking economic slump norway following last plunge oil foreign banks allow operate susbidiaries norway since 1985 foreign banking analyst oslo access norway second hand security equity market approve later spring lower primary reserve requirement would make profit citibank lost 490 crown norway 1985 sejerstad profit likely plan liberalisation better economic performance help steady oil around 18 barrel earlier chase manhattan bank cmb n subsidiary decide stop foreign exchange trading heavy losses focus instead fee base merchant banking\n",
            "2 vieille montagne conditions unfavourable sharp fall dollar zinc depreciation currency create unfavourable economic conditions vieille montagne sa vmnb br statement two factor led squeeze refining margin 18 24 fall sales services income despite unchanged level activity vieille montagne actively pursue restructure program report 198 franc loss 187 franc provisions closure electrolysis plant compare 250 franc profit 1985\n",
            "1 vieille montagne report loss dividend loss exceptional charge 198 franc profit 250 exceptional provisions closure viviez electrolysis plant 187 franc exceptional gain 22 sales services 16 51 franc 20 20 propose dividend ordinary 110 franc full name vieille montagne sa vmnb br >.\n",
            "0 ec mainly tin extension k stand take european community ec member international tin council except britain prepare back extension international tin agreement ec spokesman meeting ec state representative yesterday britain undertake communicate decision partner today ready yesterday take stand add nine ec state back extension spain portugal member international tin council raise objection common ec stance favour\n",
            "4 japan given little hope avoid sanction top official japan little chance convince drop threaten trade sanction despite effort japanese team left washington today michael armacost secretary state political affairs ask press conference whether japan move boost domestic economy open market could persuade impose tariff japanese import reply \"... probably early figure demonstrate situation turn around permit result describe .\" armacost hope japan take steps lift domestic economy reduce dependence export remove barrier import settle outstanding trade issue obvious problem moment trade area wish problem divert attention important area cooperation continue exist security political issue question whether cooperative action government reduce trade imbalance whether congress take action reduce protectionist legislation\n",
            "3 thai zinc export fall march thai zinc ingot export fell 882 march 764 february 008 march mineral resource department spokesman padaeng industry co ltd country sole exporter attribute decline lower stocks average first quarter 16 late 1985 begin exporting department major buyer include china japan philippines south korea singapore taiwan thailand export 842 zinc ingot first quarter 14 937 ago\n",
            "0 ec sugar tender hard predict london trade outcome today european community ec white sugar tender extremely difficult predict last week substantial award 102 350 high ever rebate 46 864 european currency unit ecus per 100 kilo trader believe tonnage would probably smaller around 60 decline give view likely restitution last week european commission accept 785 sugar intervention operator protest low rebate might determine factor today result add\n",
            "0 north yemen call sugar buying tender trade north yemen call buying tender saturday purchase 30 white sugar arrival june trader\n",
            "4 anheuser busch join bid san miguel anheuser busch inc bud n join several foreign bidder sequester philippines large food beverage maker san miguel corp sanm mn >, head government panel control tell reuters ramon diaz secretary presidential commission good government pcgg anheuser busch tell government interest buying 14 b san miguel disclose offer diaz australian brewer alan bond bond corp holding ltd offer 150 peso per b diaz new york investment bank allen co inc earlier interest buying 38 sequester tell reuters last month elder ixl ltd elxa >, melbourne base brewing also bid b hong kong economic journal last month quote spokesman australian stock broker jackson ltd saying barwon farmland ltd >, australian firm 30 ariadne australia ltd >, planning filipino branch order buy entire block 38 anheuser busch last make 150 dlr bid buy san miguel brewery ltd >, hong kong list 69 65 neptunia corp ltd >, san miguel corp subsidiary talks break last june two side could agree terms sale\n",
            "4 economic spotlight australian market boom australian market boom foreign fund manager redirect capital away unite state traditional market analyst high short term interest rates bullish stock market increasingly stable currency reflect massive inflow fresh funds last two month largely japanese investor analyst poll reuters fund manager want quality market park cash settle australia britain canada diversify volatile dollar instrument one percentage point fall key bond rates past month record month high currency 71 illustrate inflow official figure latest inflow investment capital available broker receive almost daily inquiry japan unite state people get trillion dollar slosh know ending attraction high interest rates reasonable currency stability national australia bank ltd economist brian hamley flight quality ',\" hamley australia may best economic position many country want put money .\" strong australian dollar also attract investor taking advantage appreciate currency volatility unit analyst looking favour market perhaps people would concern value dollar lloyd bank nza ltd chief economist buttrose put money australia entry cheap currency look stable ?\" turning capital permanent productive investment depend government economic policy disappear people lose confidence direction economy buttrose add offshore investor would carefully watch government promise tough economic statement may 14 happy invest bond vehicle yielding interest unobtainable elsewhere fund manager could easily reverse flow particularly japanese badly hurt past rapid falls australian dollar hefty jump bond rates analyst remain edgy money something deliver statement consider tough enough one might see substantial outflow buttrose offshore investor eager see australia take tough economic decision curb 100 dlr foreign debt stubborn current account deficit analyst giving us benefit doubt think would like leave money buttrose reserve bank policy also reflect increase interest investment australia need shield japanese investor rapid currency fluctuation reserve governor bob johnston last week acknowledge element target rate yen currency policy authorities could take eyes yen crucial role japanese investor analyst believe reserve bank work successfully recent month keep australian dollar within range 100 103 yen apart recovery weak dollar australian dollar also rise almost three trade weight basis last three week offshore buying also play role boom australian market follow wall street market also setting trend response weight domestic offshore funds pour equity particularly gold sector key ordinary index rose record 758 today nearly 20 level end gold index nearly double record 081 period property sector also seek japanese invest heavily unite state recent years turning attention undervalue real estate particularly tourism field analyst point recent sale sydney five star regent hotel japanese interest 145 indicative type property seek think find good value real estate long term fix capital investment kind investment australia need buttrose add\n",
            "4 economic spotlight kuwaiti economy kuwait oil reliant debt ride economy start pull nosedive oil determine pace recovery banker economist crucial ability 13 member opec hold oil around new benchmark 18 barrel northern hemisphere summer demand usually slacken banker estimate economy measure terms gross domestic product gdp shrink 19 real terms last contracting taking account inflation consumer 1985 slowing factor depress economic activity include old iran iraq war kuwait doorstep threaten emirate vital oil export lifeline gulf sap business confidence sentiment receive much need boost september series piecemeal steps combat debt crisis cause 1982 crash local stock market comprehensive new debt settlement program introduce crash result speculative spree forward trading left 95 post date cheque default cheque also use collateral consumer spending thus generate informal credit system much debt water big sum still owe individual dinar 15 outstanding bank credit end one quarter one third estimate banker rank bad doubtful debt government repeatedly allow banks go new debt settlement scheme entail reschedule problem credit 15 years depend whether debtor regular cash flow banks shareholder depositor right guarantee government edict vital significance country people financial sector big oil kuwait better place opec country ride oil glut banker economist kuwait opec quota 948 barrels per day bpd compare production capacity bpd mention last oil minister sheikh ali al khalifa al sabah strategic diversification downstream operations europe several years ago hefty refining investment home give guarantee market abroad enable sell one half output high grade refine oil product oil industry source kuwait able get average 00 barrel selling oil form process product gas oil kerosene naphtha rather crude banker rebound oil major reason cautious optimism reason low domestic inflation bottom fall import recent years sign government spending productive sector remain steady external account good shape estimate dinar current account surplus 16 1985 still achievement recession hit gulf kuwait petrodollar reserves mid put officially 80 earn investment income equivalent 65 first time since end oil boom reserves may enough prevent real budget deficit 87 fiscal ending june 30 banker budget portray banker mildly contractionary revenue 87 cut 38 spending doubling nominal deficit 33 dinar left income state reserves usually exclude official budget accounting forecast banker dinar 87 result shortfall banker early venture forecast economic growth next depend oil one summer important .\" cabinet affairs minister rashid al rashid last sunday cabinet ratify recommendation rationalise state spending favour productive sector reactivate economy give details banker expect spell 88 budget possibly june\n",
            "4 malaysia may meet oil palm target malaysia unlikely meet target output five oil palm calendar oil palm grower tell reuters output expect reach around unchanged drought low use fertiliser overstress palm grower ask reaction oil world newsletter report malaysia oil palm output likely drop sharply palm oil sell around 700 ringgit 115 ringgit le soybean oil malaysia must sell palm oil prevent stock buildup could damage industry leading grower tell reuters country palm oil stocks total 500 800 last march grower grower expect palm oil ease later due pressure south american soybean output current south american oilseed harvest mainly soybean likely around 25 previous 21 crop addition new soybean planting also expect enter market around november malaysian palm oil output peak new planting palm also likely slow 50 hectare expect plant new tree 100 although effects reduction felt another three years\n",
            "4 jardine matheson set two five bonus issue replacing b jardine matheson set two five bonus issue replacing b\n",
            "2 monier britain redland may bid diversify building material group monier ltd mnra talks taking place may lead britain redland plc rdld l making offer monier already hold chairman bill locke redland already hold 49 monier 156 28 issue brief notice australian stock exchange locke shareholder would advise soon discussion progress recommend keep monier trading high today previous peak 80 yesterday close well low 18 monier large concrete roof tile manufacturer australia new zealand world large marketer fly ash accord annual report 1985 end june 30 recently report first half 87 fell 15 02 17 09 earlier due australian housing downturn although foreign earnings rose\n",
            "3 isuzu plan interim dividend isuzu motor ltd isum pay dividend first half ending april 30 expect mark yen parent current loss first half due slow export cause yen appreciation spokesman pay dividend since end october 31 1983 pay five yen 44 yen current profit first half 1985\n",
            "4 japanese official take data microchip talks ministry international trade industry miti vice minister makoto kuroda leaf washington today data hope refute charge japan violate pact microchip trade three man japanese trade team already washington laying groundwork talks kuroda deputy trade representative michael smith aim persuade impose tariff certain japanese product kuroda taking new proposal nothing briefcase except explanation current situation kuroda tell daily newspaper asahi shimbun kuroda decision base incorrect data exaggerate sense miti power control market force excessive expectation stabilise supply demand relations disrupt excess inventory since 1985 take time kuroda also lay part blame low chip sales japan lack effort american firm fail talks tomorrow friday forestall sanction seek talks trade representative clayton yeutter official week talks unlikely delay imposition tariff\n",
            "4 bell group confirm standard charter stake bell group ltd blla hold 14 issue capital standard charter plc stch l acquiring one sentence statement bell headquarters confirm broker warburg security tell reuters london yesterday bell previously hold standard bell chairman robert holmes court also director standard available comment intention boost holding official contact reuters decline comment\n",
            "3 nippon steel deny china seeking japanese plant nippon steel corp nstc deny local newspaper report china seeking buy steel plant japanese firm plan suspend output recently announce rationalisation program mainichi shimbun quote nippon steel saying china state planning commission chinese firm ask japanese maker sell steel works rolling mills expand steelmaking cheaply name source nippon steel spokesman tell reuters china make official request consider sales moment mainichi quote nippon steel official saying reasonable would export use mills china paper china crude steel output total 52 calendar plan increase 80 1996 japan steel industry rationalisation plan aim cutting production capacity sharply next years\n",
            "4 jardine matheson replace b bonus issue jardine matheson holding ltd jard hk withdraw previously announce four one bonus issue b replace two five bonus issue ordinary statement firm expect pay total dividend le 40 cent expand capital jardine matheson decide withdraw issue joint announcement earlier today ronald li chairman stock exchange hong kong security commissioner ray astin listing new b would bar official announcement include proposal jardine matheson jardine statement quote chairman simon keswick saying continue believe issuing b would benefit shareholder regret given opportunity vote matter stage .\" keswick b issue benefit jardine matheson shareholder giving firm flexibility issue ordinary expansion future without dilute exist shareholder voting right however add certainly welcome secretary monetary affairs david nendick referral important matter standing committee law reform hopeful process lead development general principle embrace constituent hong kong market .\"\n",
            "4 japan given little hope avoid sanction top official japan little chance persuade drop threaten trade sanction despite effort japanese team left washington today michael armacost secretary state political affairs ask press conference whether japan move boost domestic economy open market could persuade impose tariff japanese import reply \"... probably early figure demonstrate situation turn around permit result describe .\" armacost hope japan take steps lift domestic economy reduce dependence export remove barrier import settle outstanding trade issue obvious problem moment trade area wish problem divert attention important area cooperation continue exist security political issue question whether cooperative action government reduce trade imbalance whether congress take action reduce protectionist legislation\n",
            "4 bank japan intervene soon tokyo opening bank japan buy small amount dollar shortly opening around 145 30 yen dealer central bank intervene medium size trading house sell dollar putting pressure currency dollar also support major electrical consumer good speculative dollar buyer around 145 25 yen add dollar open 145 33 yen 145 60 70 new york 145 25 close yesterday\n",
            "3 indonesian inflation rate 87 inflation indonesia fiscal 87 march 31 compare 66 previous information minister harmoko cabinet session discus economic situation\n",
            "2 k money market given 53 stg assistance bank england provide money market 53 stg assistance morning session compare bank estimate shortage system around 300 stg earlier revise 250 central bank make outright purchase bank bill comprise 46 stg band three seven stg band four 16\n",
            "4 san miguel deal hit lawsuit bid san miguel corp smc sanm mn buy back 38 sequester unite coconut planter bank ucpb hit two new lawsuit source philippine food brewery manila court yesterday issue injunction barring ucpb selling represent 31 smc outstanding capital stock 121 hearing april 21 petition file eduardo cojuangco former chairman smc ucpb cojuangco coconut industry investment fund ciif farmer rightful owner cojuangco hold trust ucpb represent blue chip investment petition ucpb plan sell smc serious breach fiduciary duty .\" smc source propose sale could also hold second derivative suit file security exchange commission sec eduardo de los angeles government nominee board de los angeles represent smc minority stockholder ask sec block transaction approve last week board april board sanction repurchase sequester 79 peso 126 peso per de los angeles tell sec retain earnings 33 peso would wipe purchase would prevent declaration dividend de los angeles purchase would also violate smc agreement creditor maintain debt equity ratio quote smc chief financial director ramon del rosario telling board transaction would boost ratio petition sec de los angeles amend earlier suit two week ago charge smc chairman andres soriano iii nine director violate duty de los angeles earlier complaint relate smc assume last december 26 dlr loan contract smc hong kong subsidiary neptunia corp payment loan assumption ratify last week board meeting arbitration panel set president corazon aquino resolve ownership issue expect submit report april 15 amend suit file eduardo de los angeles part continue attempt certain elements complete disregard fact questionable motive delay early disposition sequester san miguel corp statement coming san miguel corp ucpb reach agreement method payment suit direct contravention government express desire reach amicable settlement controversy april 15 statement add san miguel spokesman comment cojuangco court petition add statement coming us might interpret adversarial .\" meanwhile ramon diaz head government panel sequester last soriano eligible buy major portion unite state citizen sequester split 24 filipino 14 b available foreign buyer smc source soriano personally among prospective buyer would purchase soriano group smc neptunia unnamed institutional investor soriano name one buyer bid march 33 control ucpb sale abort diaz presidential commission good government sequester suspicion cojuangco close associate former president ferdinand marcos cojuangco life self impose exile .. grow 38 15 stock dividend announce last june objection soriano buying b diaz tell reuters everything hold .\" smc spokesman know controversy would resolve annual stockholder meeting schedule may 14 san miguel corp report sales revenue peso peso sales 1985 unaudited profit neighbourhood 700 peso increase 50 1985\n",
            "0 rain boost central queensland sugar cane crop good rain one four inch past days boost moisture stress sugar cane crop mackay burdekin region queensland central coast australian sugar producer association spokesman previously report region undergo severe dry spell partly relieve scatter rainfall since december following virtual failure summer wet season mills area reporting crop beginning look healthy green putting growth since rain begin spokesman brisbane although mackay burdekin crop outlook much better cane losses spokesman early rain need restore sub soil moisture elsewhere far north queensland bundaberg region southern queensland cane excellent condition mills forecasting record crop initial crop estimate probably compile towards end may cane crush normally run june december\n",
            "0 french trader forecast ec sugar tender european community ec expect award export licence today weekly tender 60 possibly 100 white sugar last week award 102 350 trader expect maximum rebate 46 40 46 50 ecus per 100 kilo compare last week 46 864 earlier trader london outcome tender hard predict last week substantial award place 785 sugar intervention believe tonnage would around 60 decline give rebate figure\n",
            "2 italy la fondiaria report higher profits italian insurer la fondiaria spa lfdi mi expect report consolidate group profit significantly higher 60 lira report 1985 statement parent profit last rise 72 lira report 1985 consolidate group premium total 700 lira compare 490 previous iniziativa meta inzi mi >, financial services unit montedison spa moni mi >, control large single stake florence base fondiaria 49\n",
            "4 nickel unlikely rise much shearson nickel unlikely rise significantly current level unless steps take reduce production shearson lehman brother quarterly nickel market report market recover slightly around 72 lb yesterday four low 55 early january due absence soviet nickel cathode delivery shearson see soviet shipment soon return last buoyant level ease current tightness output reduction producer take effect later likely offset increase elsewhere shearson nickel market virtually balance total non socialist world demand 556 compare estimate 544 production 505 504 import socialist country 47 50 ). forecast edge higher first quarter average 67 lb 77 last quarter average around 72 lb compare 76 using london metal exchange cash metal dollar terms assume average sterling exchange rate 55\n",
            "2 higher profit dutch chemical firm dsm fully state dutch chemical firm nv dsm dsmn profit rose 412 guilder 402 1985 turnover fell 17 guilder 24 1985 dividend pay dutch state capacity firm sole shareholder would raise 98 guilder 70 guilder 1985 initial comment result dsm drop turnover cause mainly losses fertilizer division\n",
            "4 poehl warn dollar fall bundesbank president karl otto poehl weak dollar would risky appreciation mark would damage prospect sustain west german economic growth speech institute contempory german affairs poehl would extremely risky policy aim substantial decline value dollar correct trade deficit .\" unite state could face vicious circle depreciation inflation depreciation take route poehl note west germany already take steps meet demand greater stimulation domestic economy accelerate tax cut cutting interest rates tolerate target money supply growth would happy bring forward five marks tax cut plan january 1988 beginning government face political constraint getting measure upper house west german parliament also limit impact west germany could accept export rising mark poehl west germany rely export one third gross national product substantial erosion export market could offset increase demand home appreciation mark could even obstacle growth poehl bundesbank tolerate rapid money supply growth last country enjoy low inflation external factor include low oil favourable terms trade given extra leeway poehl west germany face difficult dilemma monetary policy underlie rate inflation two report negative inflation rates last west germany affect exchange rate development time focus policy external side live expansionary money supply must careful concern japan trade surplus affect european country well unite state poehl welcome call louvre accord monetary official major industrialize country saying importance february 22 agreement stabilize exchange rates underestimate partner agree dollar right level change would damage growth remarkable change attitude especially part american colleague still danger correction dollar value could overshoot\n",
            "0 cincinnati bell csn start auxton auxt bid cincinnati bell inc start previously announce 15 75 dlr per tender offer auxton computer enterprise inc newspaper advertisement tender withdrawal right expire may five unless extend offer approve auxton board follow merger condition receipt majority auxton voting stock fully dilute basis\n",
            "3 california biotech cbio see 1st qtr loss california biotechnology inc expect report loss 300 600 first quarter due increase investment research manufacturing scaleup production research spending running 50 60 ago try commercialize product quickly possible increase expenditure expect continue several quarters operate result fluctuate quarter quarter depend timing significant payment commercial partner first three month lost 150 change fiscal calendar ending november 30 first quarter last end february 28 california biotech earn 114\n",
            "0 pall corp pll set quarterly dividend qtly div prior pay may one record april 20\n",
            "3 unilever seek buyer stauffer chemical unilever plc nv un issue prospectus investment banker goldman sachs co seeking buyer stauffer chemical co acquire recent takeover chesebrough pond inc >, unilever spokesman note unilever indicate plan dispose stauffer plus smaller assets chesebrough since bid make december stauffer sale prospectus sent recent week number express interest unilever spokesman decline much group expect receive stauffer chesebrough footwear tennis racket business also likely dispose add immediately available financial information stauffer wholly limited add nine month sales september unilever aquired chesebrough order benefit well know toiletry brand food product\n",
            "4 conrac corp enter talks acquisition several party conrac corp enter talks acquisition several party\n",
            "3 conrac cax merger talks several conrac corp sait start negotiation several interest party possible acquisition assurance transaction result talks give details mark iv industry inc iv start tender conrac 25 march 24 conrac starting bid conrac producer marketer computer relate information display communications equipment also produce special purpose architectural industrial product code phone corp producer telephone answer machine report profits 16 sales 153 nearly outstanding\n",
            "4 japan ldp urge import farm item ruling liberal democratic party ldp propose expand import farm product name complaint japan general agreement tariff trade last ldp official product include fruit juice puree pulp tomato product peanuts prepare beef product bean proposal use basis detail ldp economic package cut trade surplus party expect formalise package april 19 ldp general council chairman shintaro abe visit washington\n",
            "1 computer research inc core 2nd qtr feb 28 14 nine 217 572 153 454 rev 530 273 558 924 1st half 19 299 838 174 739 rev 865 249 495 021\n",
            "4 australian foreign ship ban end tug crew new south wales nsw victoria western australia yesterday lift ban foreign flag ship carry container nsw port still disrupt separate dispute shipping source ban impose week ago pay claim prevent movement port nearly 20 vessel pay dispute go hearing arbitration commission today meanwhile disruption begin today cargo handling port sydney newcastle port kembla industrial action nsw port part week action call nsw trade labour council protest change state worker compensation laws\n",
            "1 rubbermaid inc 1st qtr 28 22 rubbermaid inc 1st qtr 28 22\n",
            "4 independent chairman dutch cargo dispute two side rotterdam port general cargo dispute agree appoint independent chairman han lammers preside future meeting employer spokesman gerard zeebregts lammers queen commissioner province flevoland act mediator draw agenda procedure meeting employer union work practice agreement propose redundancy two month strike sector begin january 19 protest employer proposal 350 redundancy strong workforce strike call main port union fnv march 13 following amsterdam court interim injunction redundancy procedural grounds court due make final ruling may zeebregts expect judgment go employer therefore likely restart complicate legal redundancy procedure near future meanwhile dispute new work practice agreement port grain sector continue 30 maintenance worker strike although loading affect spokesman graan elevator mij large employer sector employer write union asking reconsider position meeting union member call tomorrow\n",
            "1 electro rent corp elrc 3rd qtr feb 28 20 32 358 476 rev 27 26 avg shrs 852 764 nine mths 68 05 957 129 rev 82 78 avg shrs 316 754\n",
            "1 rubbermaid inc rbd 1st qtr 28 22 20 16 sales 238 188\n",
            "1 wtc international inc waf 4th qtr feb 28 profit 13 loss 33 profit 149 loss 833 rev 51 47 profit 24 loss 18 profit 050 loss 551 rev 200 180\n",
            "2 k money market given 166 stg help bank england provide market help total 166 stg afternoon band one buy 31 stg treasury bill three stg bank bill band two buy 69 stg bank bill 13 16 addition buy 63 stg band three bank bill bring total assistance bank far today 219 stg liquidity shortage estimate around 300 stg\n",
            "1 mead corp 1st qtr oper 09 67 mead corp 1st qtr oper 09 67\n",
            "3 rubbermaid rbd see continue improvement rubbermaid inc incoming order rates continue strong expect continue recording favorable comparison remain quarter today report first quarter earnings 20 sales 238 earnings 16 sales 188\n",
            "1 cayuga savings bank cayb 1st qtr 55 41 494 204 avg shrs 896 655 494 155\n",
            "1 johnstown savings bank fsb jsbk 1st qtr 33 given 642 484 362 883 note go public october include pretax loan loss provisions 90 56 250 gain sale security 113 432 88 946\n",
            "1 home savings loan association inc hsld 2nd qtr march 31 57 given 790 874 628 020 1st half 15 given 588 985 073 163 note recently go public\n",
            "1 geodynamics corp gdyn 3rd qtr feb 27 21 20 596 594 rev 693 164 nine mths 61 58 784 653 rev 26 23\n",
            "3 swedish unemployment steady march swedish unemployment steady workforce march compare previous month central bureau statistics march figure stand\n",
            "3 compaq cpq expect higher first quarter compaq computer corp expect sales earnings first quarter higher analyst expectation due strong demand product rod canion president chief executive officer compaq expect sales 200 period ending march 31 analyst estimate 165 185 add earnings per would exceed analyst estimate high 42 compaq report earnings 30 sales 144 first quarter demand deskpro 386 portable iii new compaq deskpro 286 contribute sales increase initial demand recently introduce compaq portable iii new model compaq deskpro 286 exceed compaq personal computer canion saw continue demand personal computer across quarter march particularly strong month\n",
            "3 international iu sell insurance unit international co reach preliminary agreement sell hawaiian insurance cos hawaiian electric industry inc >. terms transaction disclose transaction subject execution definitive agreement certain governmental approval approval boards director involve international hawaiian electric plan purchase part strategy increase investment select service industry hawaii include financial services\n",
            "1 cxr telcom corp cxrl 3rd qtr march 31 215 16 rev 800 100 nine mths one 620 231 rev 100 100\n",
            "4 proxmire outline insider trading legislation senate banking committee chairman william proxmire wi plan introduce legislation shortly require greater public disclosure corporate takeover fair treatment shareholder speaking national association manufacturer proxmire recent insider trading stock scandal increase chance congress act curb abuse propose legislation would provide disclosure would fair shareholder would insure takeover properly finance among provisions bill would reduce threshold notify security exchange commission investor group acquire percentage stock three current five threshold within days proxmire addition would pre notificaton requirement investor intend aquire three would file sec proxmire pre notification requirement mean prevent arbitrager jump general public knowing coming takeover attempt proxmire would call extend period tender offer must keep open williams act 60 business days current 20 business days bill would provide private suit acquiring violate time period tender offer correct abuse financing takeover proxmire legislation would aim insure current margin requirments properly enforce federal reserve board 50 margin requirement purchasing stock proxmire generally enforce hostile takeover rather group individual leading takeover declare raise capital takeover without actually putting money proxmire bill would allow private suit damages failure meet federal reserve 50 margin requirement bill also would require disclose several investor form alliance hostile takeover pickens icahn get together want people know proxmire proxmire favor approach use britain towards two tiered tender offer insure shareholder recieve equal treatment expect amendment bill also would cover defensive mechanism green mail poison pill proxmire intend introduce bill later month predict senate committee would act spring hopeful congress could pass bill\n",
            "1 helen troy corp hele 4th qtr feb 28 17 13 598 392 sales 474 avg shrs 432 045 oper profit 05 loss 47 oper profit 498 loss 427 sales 52 40 avg shrs 320 060 note latest exclude 782 dlr tax credit\n",
            "2 banker trust bt put brazil non accrual banker trust new york corp place approximately 540 medium long term loan brazil non accrual status first quarter income reduce seven result brazil suspend interest payment 68 medium long term debt february 22 banking regulation require banks stop accrue interest loan payment 90 days overdue banker trust act high potential continue suspension would result reaching 90 day limit second quarter .\" assume cash payment current interest rates receive rest banker trust estimate full income would reduce 30 banker trust assume debt negotiation brazil commercial bank lender lead resumption interest payment negotiation resume new york friday central bank governor francisco gros expect ask banks 90 day rollover term debt mature april 15\n",
            "1 first mercantile currency fund inc 1st qtr profit 63 22 775 868 276 446 rev 255 742 706 130\n",
            "0 uk intervention bd ec sell 118 350 white sugar rebate 46 496 ecus uk intervention bd ec sell 118 350 white sugar rebate 46 496 ecus\n",
            "4 stoltenberg see move strengthen paris accord west german finance minister gerhard stoltenberg today meeting major industrial country would look ways strengthening paris accord stabilize foreign exchange rates stoltenberg tell journalist saw fundamental weakness february 22 agreement group five country canada keep exchange rates near current level decline measure would discuss ahead communique group seven minister later today stoltenberg bundesbank president karl otto poehl importance paris agreement also know louvre accord underestimate stoltenberg greater agreement among major country six month ago time annual meeting international monetary fund world bank mark sharp discord unite state major trading partner fundamental weakness paris accord looking ways strengthening want discus stoltenberg louvre agreement working despite slight firm yen dollar poehl note dollar mark parity unchanged since february 22 without bundesbank sell marks support dollar louvre agreement honor market poehl west germany live side bargain paris prepare way tax cut accelerate way stimulate growth poehl however japan yet fulfil pledge economic stimulation see unite state able promise paris reducing budget deficit get congress add stoltenberg reiterate west german concern fall dollar note mark 85 dollar nearly 20 trade weight basis cannot expect go unnoticed economy german problem european problem\n",
            "0 k intervention board details ec sugar sales total 118 350 current series white sugar receive export rebate maximum 46 496 european currency unit ecus per 100 kilo today european community ec tender k intervention board trader k receive 37 800 france 34 500 west germany 20 belgium 18 500 spain 800 denmark 750 add earlier today london trader decline give project view level subsidy although total tonnage award would around 60 paris trader foresee 60 100 authorise export 46 40 46 50 ecu subsidy cumulative sales authorisation current season 87 stand 194 970 43 week ). last week saw 102 350 white authorise export licence end sep higest ever rebate 46 864 european currency unit ecus per 100 kilo\n",
            "3 mead mea expect improve earnings mead corp outlook major paper market look strong second quarter augur well earnings generally strong outlook bode well significantly improve earnings burnell roberts chairman chief executive officer earlier report first quarter earnings 34 09 versus 20 65 last first quarter report earnings continue operations 109 50 mead first quarter benefit strong market conditions improve operations combination capital improvement program employee involvement pay throughout paper operations roberts add mead pulp paperboard business operate well improve strong demand place product sell position middle mead sales unbleached coat paperboard particularly strong 13 versus first quarter\n",
            "1 amertek inc atekf 1st qtr profit 20 loss three profit 849 299 loss 82 512 rev 929 138 849 224\n",
            "1 alex brown inc absb 1st qtr march 27 primary 78 68 dilute 75 68 qtrly div six five 929 569 rev 78 61 note pay date qtrly div april 28 shareholder record april 20\n",
            "1 town country jewelry manufacturing tcjc 4thh qtr feb 28 46 22 139 034 854 182 sales 30 20 avg shrs 280 854 559 646 34 15 935 117 156 171 sales 107 71 avg shrs 281 387 616 183 note town country jewelry manufacturing corp\n",
            "4 paxar corp paks make acquisition paxar corp acquire thermo print gmbh lohn west germany distributor paxar product undisclosed terms\n",
            "3 mark work wearhouse ltd jan 31 32 975 145 sales 159 147\n",
            "3 canadian bashaw erskine resource merge canadian bashaw leduc oil gas ltd agree merge erskine resource ltd terms disclose ownership combine 18 current shareholder canadian bashaw 81 current shareholder erskine\n",
            "3 entourage entg first quarter loss entourage international inc first quarter loss 104 357 incurring 70 costs internal audit report shareholder proxy soliciation 24 startup expense opening london office go public entourage also start marketing solid perfume package lipstick tube call amadeus retailing 15 also acquire north country medium group video production\n",
            "1 mr jax fashion inc feb 28 58 29 141 440 sales 24 13\n",
            "3 f w woolworth co hike dividend 33 28 f w woolworth co hike dividend 33 28\n",
            "0 f w woolworth co z hike dividend qtly div 33 28 prior pay june record may\n",
            "0 dutch sugar beet planting half finish roughly half expect 130 hectare dutch sugar beet crop already ground spokesman suiker unie large sugar processor netherlands tell reuters conditions generally good average sow date crop expect around april april 23 last average april 14 spokesman add far early yet kind output expect come harvest september least crop good start last netherlands plant record 137 600 hectare sugar beet produce record white sugar substantially country combine b quota 872 however self impose quota system introduce aim cutting planting 130 hectare reducing white sugar output around 915 minimise amount non quota c sugar produce farmer record growing suger beet allot quota expect prevent area boost dairy cereal farmer move sugar\n",
            "1 j p morgan co inc 1st qtr 22 28 j p morgan co inc 1st qtr 22 28\n",
            "0 ec commission details sugar tender ec commission confirm grant export licence 118 350 current series white sugar maximum export rebate 46 496 european currency unit ecus per 100 kilo trader france receive 34 500 k 37 800 west germany 20 belgium 18 500 spain 800 denmark 750\n",
            "2 volkswagen dividend decision due tomorrow volkswagen ag vowg f >, vw due make formal announcement dividend tomorrow saying 1985 level marks per ordinary would hold despite massive losses suspect foreign currency fraud spokesman vw supervisory board meet tomorrow discus payout statement make afterwards vw also disclose profits reach 1985 level despite provisions possible 480 marks link currency affair figure virtually 477 mark 1985 parent profit vw first confirm currency scandal march management board would propose unchanged mark dividend supervisory board dividend marks would propose new preference analyst saw supervisory board approval management board proposal virtually formality anything else would surprise one source vw would dig reserves maintain disclose profit parent reserves stand around three marks end 1985\n"
          ],
          "name": "stdout"
        }
      ]
    },
    {
      "cell_type": "markdown",
      "metadata": {
        "id": "nzk6K8l98fsq",
        "colab_type": "text"
      },
      "source": [
        "k=5の時について二次元で可視化する．"
      ]
    },
    {
      "cell_type": "code",
      "metadata": {
        "id": "ZNx16vdb9RCU",
        "colab_type": "code",
        "colab": {
          "base_uri": "https://localhost:8080/",
          "height": 592
        },
        "outputId": "ef1ae33c-41db-4bf9-e430-dc33256fb38b"
      },
      "source": [
        "from sklearn.manifold import TSNE\n",
        "\n",
        "tfidf_2d = TSNE(n_components=2).fit_transform(tf_idf)\n",
        "\n",
        "from matplotlib import pylab as pyplot\n",
        "\n",
        "fig, ax = plt.subplots(1, 1, figsize=(10, 10))\n",
        "\n",
        "for i in range(num_clusters):\n",
        "  points = tfidf_2d[clusters == i]\n",
        "  ax.scatter(x=points[:, 0], y=points[:, 1])"
      ],
      "execution_count": 37,
      "outputs": [
        {
          "output_type": "display_data",
          "data": {
            "image/png": "[encoded data removed]",
            "text/plain": [
              "<Figure size 720x720 with 1 Axes>"
            ]
          },
          "metadata": {
            "tags": [],
            "needs_background": "light"
          }
        }
      ]
    },
    {
      "cell_type": "markdown",
      "metadata": {
        "id": "8gchpK1w5xhj",
        "colab_type": "text"
      },
      "source": [
        ""
      ]
    },
    {
      "cell_type": "markdown",
      "metadata": {
        "id": "Ps1PgVeyOfbU",
        "colab_type": "text"
      },
      "source": [
        "## ヒント\n",
        "\n",
        "<p1>\n",
        "scikit-learnのvectorizerとkmeansにはたくさんのハイパーパラメータがあります。vectorizerのハイパーパラメータの中には前処理機能(例：stop_words)もあります。\n",
        "    ハイパーパラメータの設定を変える事で最終的な結果は変わります。以下のURLにアクセスしてハイパーパラメータの独自で設定してみてください。<br>\n",
        "    ・TF-IDFに関するパラメータ<br>\n",
        "    https://scikit-learn.org/stable/modules/generated/sklearn.feature_extraction.text.TfidfVectorizer.html<br>\n",
        "    ・Kmeansに関するパラメータ<br>\n",
        "    https://scikit-learn.org/stable/modules/generated/sklearn.cluster.KMeans.html<br>\n",
        "</p1>\n"
      ]
    },
    {
      "cell_type": "markdown",
      "metadata": {
        "id": "yRRWSoojOm1-",
        "colab_type": "text"
      },
      "source": [
        "## 応用\n",
        "<p1>\n",
        "    クラスタリング編でコードを以下に指示に従って変更する事で結果がどの様に変わるのかを確認してみましょう<br>\n",
        "    （１）講義で学んだ他の手法でベクトル化してみる(例：bag-of-words)<br>\n",
        "    （２）kmeans以外の手法、又はkmeansを可視化してみる(例：階層型クラスタリング)<br>\n",
        "<p1>"
      ]
    }
  ]
}